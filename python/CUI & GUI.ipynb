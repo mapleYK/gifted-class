{
 "cells": [
  {
   "cell_type": "code",
   "execution_count": null,
   "id": "f2362ae0",
   "metadata": {},
   "outputs": [],
   "source": [
    "#CUI(Character User Interface)是字元使用者介面，只能輸入與輸出文字，藉此操控電腦的方式(ex.Python的Shell視窗)\n",
    "#GUI(Graphical User Interface)是圖形使用者介面，是直覺操作的介面(有按鈕、文字方塊等，ex. word、ppt)"
   ]
  },
  {
   "cell_type": "code",
   "execution_count": 2,
   "id": "765c0855",
   "metadata": {},
   "outputs": [],
   "source": [
    "#在Python製作GUI要使用tkinter模組\n",
    "import tkinter      \n",
    "root = tkinter.Tk() #製作視窗的零件，在這裡是在建立\"視窗\"這個物件，root變數就是視窗物件\n",
    "root.mainloop()     #利用mainloop顯示視窗"
   ]
  },
  {
   "cell_type": "code",
   "execution_count": 8,
   "id": "1f15d8dc",
   "metadata": {},
   "outputs": [],
   "source": [
    "import tkinter      \n",
    "root = tkinter.Tk() \n",
    "root.title(\"第一個視窗\")   #指定視窗標題\n",
    "root.geometry(\"800x600\")  #指定視窗大小，其中數字間的乘號為英文字母x\n",
    "root.mainloop()     "
   ]
  },
  {
   "cell_type": "code",
   "execution_count": 7,
   "id": "b6e2a4bf",
   "metadata": {},
   "outputs": [],
   "source": [
    "import tkinter      \n",
    "root = tkinter.Tk() \n",
    "root.title(\"第一個視窗\")   \n",
    "root.minsize(200,300)     #也可設定最小、最大邊界來限制視窗大小\n",
    "root.maxsize(300,400)\n",
    "root.mainloop()     "
   ]
  },
  {
   "cell_type": "code",
   "execution_count": 7,
   "id": "d927cdea",
   "metadata": {},
   "outputs": [],
   "source": [
    "import tkinter      \n",
    "root = tkinter.Tk() \n",
    "root.title(\"第一個視窗\")   \n",
    "root.geometry(\"800x600\")  \n",
    "\n",
    "label = tkinter.Label(root, text = \"標籤的字串\", font = (\"芫荽\", 24)) #建立標籤零件\n",
    "label.place(x=200, y=100) #在視窗中配置標籤位置\n",
    "\n",
    "root.mainloop()     "
   ]
  },
  {
   "cell_type": "code",
   "execution_count": 2,
   "id": "728e11c5",
   "metadata": {},
   "outputs": [
    {
     "name": "stdout",
     "output_type": "stream",
     "text": [
      "('System', '@System', 'Terminal', '@Terminal', 'Fixedsys', '@Fixedsys', 'Modern', 'Roman', 'Script', 'Courier', 'MS Serif', 'MS Sans Serif', 'Small Fonts', 'Adobe Caslon Pro Bold', 'Adobe Caslon Pro', 'Adobe 仿宋 Std R', '@Adobe 仿宋 Std R', 'Adobe 繁黑體 Std B', '@Adobe 繁黑體 Std B', 'Adobe Gothic Std B', '@Adobe Gothic Std B', 'Adobe 黑体 Std R', '@Adobe 黑体 Std R', 'Adobe 楷体 Std R', '@Adobe 楷体 Std R', 'Adobe Naskh Medium', 'Adobe Garamond Pro Bold', 'Adobe Garamond Pro', 'Birch Std', 'Blackoak Std', 'Brush Script Std', 'Chaparral Pro', 'Chaparral Pro Light', 'Charlemagne Std', 'Cooper Std Black', 'Giddyup Std', 'Hobo Std', 'Kozuka Gothic Pro B', '@Kozuka Gothic Pro B', 'Kozuka Gothic Pro EL', '@Kozuka Gothic Pro EL', 'Kozuka Gothic Pro H', '@Kozuka Gothic Pro H', 'Kozuka Gothic Pro L', '@Kozuka Gothic Pro L', 'Kozuka Gothic Pro M', '@Kozuka Gothic Pro M', 'Kozuka Gothic Pro R', '@Kozuka Gothic Pro R', 'Kozuka Mincho Pro B', '@Kozuka Mincho Pro B', 'Kozuka Mincho Pro EL', '@Kozuka Mincho Pro EL', 'Kozuka Mincho Pro H', '@Kozuka Mincho Pro H', 'Kozuka Mincho Pro L', '@Kozuka Mincho Pro L', 'Kozuka Mincho Pro M', '@Kozuka Mincho Pro M', 'Kozuka Mincho Pro R', '@Kozuka Mincho Pro R', 'Lithos Pro Regular', 'Mesquite Std', 'Minion Pro Cond', 'Minion Pro Med', 'Minion Pro SmBd', 'Myriad Arabic', 'Nueva Std', 'Nueva Std Cond', 'OCR A Std', 'Orator Std', 'Poplar Std', 'Prestige Elite Std', 'Rosewood Std Regular', 'Stencil Std', 'Tekton Pro', 'Tekton Pro Cond', 'Tekton Pro Ext', 'Trajan Pro', 'Adobe Arabic', 'Adobe Devanagari', 'Adobe Hebrew', 'Adobe 明體 Std L', '@Adobe 明體 Std L', 'Adobe Myungjo Std M', '@Adobe Myungjo Std M', 'Adobe 宋体 Std L', '@Adobe 宋体 Std L', 'Kozuka Gothic Pr6N B', '@Kozuka Gothic Pr6N B', 'Kozuka Gothic Pr6N EL', '@Kozuka Gothic Pr6N EL', 'Kozuka Gothic Pr6N H', '@Kozuka Gothic Pr6N H', 'Kozuka Gothic Pr6N L', '@Kozuka Gothic Pr6N L', 'Kozuka Gothic Pr6N M', '@Kozuka Gothic Pr6N M', 'Kozuka Gothic Pr6N R', '@Kozuka Gothic Pr6N R', 'Kozuka Mincho Pr6N B', '@Kozuka Mincho Pr6N B', 'Kozuka Mincho Pr6N EL', '@Kozuka Mincho Pr6N EL', 'Kozuka Mincho Pr6N H', '@Kozuka Mincho Pr6N H', 'Kozuka Mincho Pr6N L', '@Kozuka Mincho Pr6N L', 'Kozuka Mincho Pr6N M', '@Kozuka Mincho Pr6N M', 'Kozuka Mincho Pr6N R', '@Kozuka Mincho Pr6N R', 'Letter Gothic Std', 'Minion Pro', 'Myriad Hebrew', 'Myriad Pro', 'Myriad Pro Cond', 'Myriad Pro Light', 'TeamViewer15', 'Marlett', 'Arial', 'Arabic Transparent', 'Arial Baltic', 'Arial CE', 'Arial CYR', 'Arial Greek', 'Arial TUR', 'Arial Black', 'Bahnschrift Light', 'Bahnschrift SemiLight', 'Bahnschrift', 'Bahnschrift SemiBold', 'Bahnschrift Light SemiCondensed', 'Bahnschrift SemiLight SemiConde', 'Bahnschrift SemiCondensed', 'Bahnschrift SemiBold SemiConden', 'Bahnschrift Light Condensed', 'Bahnschrift SemiLight Condensed', 'Bahnschrift Condensed', 'Bahnschrift SemiBold Condensed', 'Calibri', 'Calibri Light', 'Cambria', 'Cambria Math', 'Candara', 'Candara Light', 'Comic Sans MS', 'Consolas', 'Constantia', 'Corbel', 'Corbel Light', 'Courier New', 'Courier New Baltic', 'Courier New CE', 'Courier New CYR', 'Courier New Greek', 'Courier New TUR', 'Ebrima', 'Franklin Gothic Medium', 'Gabriola', 'Gadugi', 'Georgia', 'Impact', 'Ink Free', 'Javanese Text', 'Leelawadee UI', 'Leelawadee UI Semilight', 'Lucida Console', 'Lucida Sans Unicode', 'Malgun Gothic', '@Malgun Gothic', 'Malgun Gothic Semilight', '@Malgun Gothic Semilight', 'Microsoft Himalaya', '微軟正黑體', '@微軟正黑體', 'Microsoft JhengHei UI', '@Microsoft JhengHei UI', '微軟正黑體 Light', '@微軟正黑體 Light', 'Microsoft JhengHei UI Light', '@Microsoft JhengHei UI Light', 'Microsoft New Tai Lue', 'Microsoft PhagsPa', 'Microsoft Sans Serif', 'Microsoft Tai Le', 'Microsoft YaHei', '@Microsoft YaHei', 'Microsoft YaHei UI', '@Microsoft YaHei UI', 'Microsoft YaHei Light', '@Microsoft YaHei Light', 'Microsoft YaHei UI Light', '@Microsoft YaHei UI Light', 'Microsoft Yi Baiti', '細明體-ExtB', '@細明體-ExtB', '新細明體-ExtB', '@新細明體-ExtB', '細明體_HKSCS-ExtB', '@細明體_HKSCS-ExtB', 'Mongolian Baiti', 'MS Gothic', '@MS Gothic', 'MS UI Gothic', '@MS UI Gothic', 'MS PGothic', '@MS PGothic', 'MV Boli', 'Myanmar Text', 'Nirmala UI', 'Nirmala UI Semilight', 'Palatino Linotype', 'Segoe MDL2 Assets', 'Segoe Print', 'Segoe Script', 'Segoe UI', 'Segoe UI Black', 'Segoe UI Emoji', 'Segoe UI Historic', 'Segoe UI Light', 'Segoe UI Semibold', 'Segoe UI Semilight', 'Segoe UI Symbol', 'SimSun', '@SimSun', 'NSimSun', '@NSimSun', 'SimSun-ExtB', '@SimSun-ExtB', 'Sitka Small', 'Sitka Text', 'Sitka Subheading', 'Sitka Heading', 'Sitka Display', 'Sitka Banner', 'Sylfaen', 'Symbol', 'Tahoma', 'Times New Roman', 'Times New Roman Baltic', 'Times New Roman CE', 'Times New Roman CYR', 'Times New Roman Greek', 'Times New Roman TUR', 'Trebuchet MS', 'Verdana', 'Webdings', 'Wingdings', 'Yu Gothic', '@Yu Gothic', 'Yu Gothic UI', '@Yu Gothic UI', 'Yu Gothic UI Semibold', '@Yu Gothic UI Semibold', 'Yu Gothic Light', '@Yu Gothic Light', 'Yu Gothic UI Light', '@Yu Gothic UI Light', 'Yu Gothic Medium', '@Yu Gothic Medium', 'Yu Gothic UI Semilight', '@Yu Gothic UI Semilight', '標楷體', '@標楷體', '細明體', '@細明體', '新細明體', '@新細明體', '細明體_HKSCS', '@細明體_HKSCS', 'HoloLens MDL2 Assets', 'Linux Biolinum G', 'Carlito', 'Liberation Sans Narrow', 'Source Sans Pro Black', 'EmojiOne Color', 'PT Serif', 'Caladea', 'OpenSymbol', 'DejaVu Math TeX Gyre', 'Gentium Basic', 'Open Sans', 'Source Code Pro Black', 'Liberation Mono', 'DejaVu Sans', 'DejaVu Sans Light', 'DejaVu Sans Condensed', 'DejaVu Sans Mono', 'DejaVu Serif', 'DejaVu Serif Condensed', 'Gentium Book Basic', 'Liberation Sans', 'Liberation Serif', 'Linux Libertine Display G', 'Linux Libertine G', 'Source Code Pro', 'Source Code Pro ExtraLight', 'Source Code Pro Light', 'Source Code Pro Medium', 'Source Code Pro Semibold', 'Source Sans Pro', 'Source Sans Pro ExtraLight', 'Source Sans Pro Light', 'Source Sans Pro Semibold', 'Arial Unicode MS', '@Arial Unicode MS', 'Century', 'Wingdings 2', 'Wingdings 3', 'Algerian', 'Baskerville Old Face', 'Bauhaus 93', 'Bell MT', 'Berlin Sans FB', 'Bernard MT Condensed', 'Bodoni MT Poster Compressed', 'Britannic Bold', 'Broadway', 'Brush Script MT', 'Californian FB', 'Centaur', 'Century Gothic', 'Chiller', 'Colonna MT', 'Cooper Black', 'Footlight MT Light', 'Freestyle Script', 'Harlow Solid Italic', 'Harrington', 'High Tower Text', 'Jokerman', 'Juice ITC', 'Kristen ITC', 'Kunstler Script', 'Lucida Bright', 'Lucida Calligraphy', 'Lucida Fax', 'Lucida Handwriting', 'Magneto', 'Matura MT Script Capitals', 'Mistral', 'Modern No. 20', 'Monotype Corsiva', 'Niagara Engraved', 'Niagara Solid', 'Old English Text MT', 'Onyx', 'Parchment', 'Playbill', 'Poor Richard', 'Ravie', 'Informal Roman', 'Showcard Gothic', 'Snap ITC', 'Stencil', 'Tempus Sans ITC', 'Viner Hand ITC', 'Vivaldi', 'Vladimir Script', 'Wide Latin', 'Tw Cen MT', 'Tw Cen MT Condensed', 'Script MT Bold', 'Rockwell Extra Bold', 'Rockwell Condensed', 'Rockwell', 'Rage Italic', 'Pristina', 'Perpetua Titling MT', 'Perpetua', 'Papyrus', 'Palace Script MT', 'OCR A Extended', 'Maiandra GD', 'Lucida Sans Typewriter', 'Lucida Sans', 'Imprint MT Shadow', 'Haettenschweiler', 'Goudy Stout', 'Goudy Old Style', 'Gloucester MT Extra Condensed', 'Gill Sans Ultra Bold Condensed', 'Gill Sans Ultra Bold', 'Gill Sans MT Condensed', 'Gill Sans MT', 'Gill Sans MT Ext Condensed Bold', 'Gigi', 'Garamond', 'French Script MT', 'Franklin Gothic Medium Cond', 'Franklin Gothic Heavy', 'Franklin Gothic Demi Cond', 'Franklin Gothic Demi', 'Franklin Gothic Book', 'Forte', 'Felix Titling', 'Eras Medium ITC', 'Eras Light ITC', 'Eras Demi ITC', 'Eras Bold ITC', 'Engravers MT', 'Elephant', 'Edwardian Script ITC', 'Curlz MT', 'Copperplate Gothic Light', 'Copperplate Gothic Bold', 'Century Schoolbook', 'Castellar', 'Calisto MT', 'Bradley Hand ITC', 'Bookman Old Style', 'Book Antiqua', 'Bodoni MT Condensed', 'Bodoni MT Black', 'Bodoni MT', 'Blackadder ITC', 'Arial Rounded MT Bold', 'Arial Narrow', 'Agency FB', 'Berlin Sans FB Demi', 'Tw Cen MT Condensed Extra Bold', 'FZLanTingHeiS-UL-GB', '@FZLanTingHeiS-UL-GB', '華康棒棒體W5注音字', '@華康棒棒體W5注音字', '華康棒棒體W5破音字1', '@華康棒棒體W5破音字1', '華康棒棒體W5破音字2', '@華康棒棒體W5破音字2', 'uzura_font', '@uzura_font', 'TI-Nspire', '@TI-Nspire', 'TINspireKeysTouch', 'TI-Nspire Sans', '@TI-Nspire Sans', 'TINspireKeys', 'TINspireKeysCX', 'TINspireKeysChinese', 'HP Simplified', 'HP Simplified Light', 'Bookshelf Symbol 7', 'Dubai', 'Dubai Light', 'Dubai Medium', 'Leelawadee', 'Microsoft Uighur', 'MT Extra', 'MS Outlook', 'MS Reference Sans Serif', 'MS Reference Specialty', '芫荽', '@芫荽')\n"
     ]
    }
   ],
   "source": [
    "#查看有哪些字型可選擇\n",
    "import tkinter\n",
    "import tkinter.font\n",
    "\n",
    "root = tkinter.Tk()\n",
    "print(tkinter.font.families()) #tkinter.font.families(root=None, displayof=None)"
   ]
  },
  {
   "cell_type": "code",
   "execution_count": 1,
   "id": "830a17ab",
   "metadata": {},
   "outputs": [],
   "source": [
    "#電腦螢幕或視窗之內的座標都以左上角為原點(0,0)\n",
    "#橫向是X軸，直向是Y軸\n",
    "#Y是越往下座標越大\n",
    "\n",
    "import tkinter\n",
    "root = tkinter.Tk()\n",
    "root.title(\"第一個按鈕\")\n",
    "root.geometry(\"800x600\")\n",
    "\n",
    "button = tkinter.Button(root, text=\"按鈕的字串\",font = (\"芫荽\",24)) \n",
    "button.place(x=200, y=100)\n",
    "root.mainloop()"
   ]
  },
  {
   "cell_type": "code",
   "execution_count": 2,
   "id": "ec3c6c07",
   "metadata": {},
   "outputs": [],
   "source": [
    "#點選按鈕後的反應\n",
    "import tkinter\n",
    "\n",
    "def click_btn():\n",
    "    button[\"text\"] = \"點選按鈕了\"\n",
    "    \n",
    "root = tkinter.Tk()\n",
    "root.title(\"第一個按鈕\")\n",
    "root.geometry(\"800x600\")\n",
    "\n",
    "button = tkinter.Button(root, text=\"按鈕的字串\",font = (\"芫荽\",24), command=click_btn) \n",
    "button.place(x=200, y=100)\n",
    "root.mainloop()"
   ]
  },
  {
   "cell_type": "code",
   "execution_count": 6,
   "id": "7c3c7d48",
   "metadata": {},
   "outputs": [],
   "source": [
    "#畫布教學\n",
    "import tkinter\n",
    "root = tkinter.Tk()\n",
    "root.title(\"第一張畫布\")\n",
    "canvas = tkinter.Canvas(root, width=400, height=600, bg=\"skyblue\")\n",
    "#變數名稱=tkinter.Canvas(視窗名稱, width=寬度, height=高度, bg=背景色)\n",
    "\n",
    "canvas.pack()  #在視窗中分配畫布\n",
    "root.mainloop()"
   ]
  },
  {
   "cell_type": "code",
   "execution_count": 5,
   "id": "988a6ea1",
   "metadata": {},
   "outputs": [],
   "source": [
    "#匯入圖片至畫布上\n",
    "import tkinter\n",
    "root = tkinter.Tk()\n",
    "root.title(\"第一張畫布\")\n",
    "canvas = tkinter.Canvas(root, width=400, height=600, bg=\"skyblue\")\n",
    "canvas.pack()\n",
    "\n",
    "gazou = tkinter.PhotoImage(file=\"iroha.png\") #將圖片載入gazou\n",
    "canvas.create_image(300,400,image=gazou) #在畫布繪製圖片 \n",
    "#canvas.create_image(x, y, anchor, image)\n",
    "# (x,y) 為圖像在 canvas 的座標位置\n",
    "#anchor為擺放位置，可以設定 n、s、w、e、ne、nw、sw、se、center ( e 右，w 左，s 下，n 上 )，預設 center。\n",
    "root.mainloop()"
   ]
  },
  {
   "cell_type": "code",
   "execution_count": 6,
   "id": "6238adb0",
   "metadata": {},
   "outputs": [],
   "source": [
    "#如何改變按鈕上的文字?(按的次數不同，文字也會跟著不同)\n",
    "#認識全域變數、區域變數(可自行先上網查)\n",
    "\n",
    "import tkinter as tk\n",
    "root = tk.Tk()\n",
    "root.title('my window')\n",
    "root.geometry('200x150')\n",
    "\n",
    "counter = 0\n",
    "\n",
    "def button_event():\n",
    "    global counter\n",
    "    counter += 1\n",
    "    \n",
    "    if counter % 2 == 0:\n",
    "        mybutton['text'] = '偶數 ' + str(counter)\n",
    "    else:\n",
    "        mybutton['text'] = '奇數 ' + str(counter)\n",
    "\n",
    "mybutton = tk.Button(root, text='my button', command=button_event)\n",
    "mybutton.pack()\n",
    "\n",
    "root.mainloop()"
   ]
  },
  {
   "cell_type": "code",
   "execution_count": null,
   "id": "356150fd",
   "metadata": {},
   "outputs": [],
   "source": []
  }
 ],
 "metadata": {
  "kernelspec": {
   "display_name": "Python 3 (ipykernel)",
   "language": "python",
   "name": "python3"
  },
  "language_info": {
   "codemirror_mode": {
    "name": "ipython",
    "version": 3
   },
   "file_extension": ".py",
   "mimetype": "text/x-python",
   "name": "python",
   "nbconvert_exporter": "python",
   "pygments_lexer": "ipython3",
   "version": "3.7.6"
  }
 },
 "nbformat": 4,
 "nbformat_minor": 5
}
