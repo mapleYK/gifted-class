{
 "cells": [
  {
   "cell_type": "code",
   "execution_count": null,
   "id": "1149687c",
   "metadata": {},
   "outputs": [],
   "source": [
    "#CUI(Character User Interface)是字元使用者介面，只能輸入與輸出文字，藉此操控電腦的方式(ex.Python的Shell視窗)\n",
    "#GUI(Graphical User Interface)圖形使用者介面，是直覺操作的介面(有按鈕、文字方塊等，ex. word、ppt)"
   ]
  },
  {
   "cell_type": "code",
   "execution_count": 2,
   "id": "5cc8de35",
   "metadata": {},
   "outputs": [],
   "source": [
    "#在Python製作GUI要使用tkinter模組\n",
    "import tkinter      \n",
    "root = tkinter.Tk() #製作視窗的零件，在這裡是在建立\"視窗\"這個物件，root變數就是視窗物件\n",
    "root.mainloop()     #利用mainloop顯示視窗"
   ]
  },
  {
   "cell_type": "code",
   "execution_count": 8,
   "id": "f3ee1610",
   "metadata": {},
   "outputs": [],
   "source": [
    "import tkinter      \n",
    "root = tkinter.Tk() \n",
    "root.title(\"第一個視窗\")   #指定視窗標題\n",
    "root.geometry(\"800x600\")  #指定視窗大小，其中數字間的乘號為英文字母x\n",
    "root.mainloop()     "
   ]
  },
  {
   "cell_type": "code",
   "execution_count": 7,
   "id": "81dd2ef0",
   "metadata": {},
   "outputs": [],
   "source": [
    "import tkinter      \n",
    "root = tkinter.Tk() \n",
    "root.title(\"第一個視窗\")   \n",
    "root.minsize(200,300)     #也可設定最小、最大邊界來限制視窗大小\n",
    "root.maxsize(300,400)\n",
    "root.mainloop()     "
   ]
  },
  {
   "cell_type": "code",
   "execution_count": 16,
   "id": "bfdf3b47",
   "metadata": {},
   "outputs": [],
   "source": [
    "import tkinter      \n",
    "root = tkinter.Tk() \n",
    "root.title(\"第一個視窗\")   \n",
    "root.geometry(\"800x600\")  \n",
    "\n",
    "label = tkinter.Label(root, text = \"標籤的字串\", font = (\"標楷體\", 24)) #建立標籤零件\n",
    "label.place(x=200, y=100) #在視窗中配置標籤位置\n",
    "\n",
    "root.mainloop()     "
   ]
  },
  {
   "cell_type": "code",
   "execution_count": null,
   "id": "f0b33e58",
   "metadata": {},
   "outputs": [],
   "source": []
  }
 ],
 "metadata": {
  "kernelspec": {
   "display_name": "Python 3 (ipykernel)",
   "language": "python",
   "name": "python3"
  },
  "language_info": {
   "codemirror_mode": {
    "name": "ipython",
    "version": 3
   },
   "file_extension": ".py",
   "mimetype": "text/x-python",
   "name": "python",
   "nbconvert_exporter": "python",
   "pygments_lexer": "ipython3",
   "version": "3.7.6"
  }
 },
 "nbformat": 4,
 "nbformat_minor": 5
}
