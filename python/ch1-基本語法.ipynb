{
 "cells": [
  {
   "cell_type": "code",
   "execution_count": 2,
   "metadata": {},
   "outputs": [
    {
     "name": "stdout",
     "output_type": "stream",
     "text": [
      "abc\n",
      "abc 1\n"
     ]
    }
   ],
   "source": [
    "#列印\n",
    "x = 1\n",
    "print(\"abc\")\n",
    "print('abc', x)"
   ]
  },
  {
   "cell_type": "code",
   "execution_count": 3,
   "metadata": {},
   "outputs": [
    {
     "name": "stdout",
     "output_type": "stream",
     "text": [
      "b1 + b2 = 10\n",
      "b2 - b1 = 4\n",
      "b2 * b1 = 21\n",
      "b2 / b1 = 2.3333333333333335\n",
      "int(b2 / b1) = 2\n",
      "b2 / b1到小數點第三位 = 2.333\n",
      "b2 % b1 = 1\n",
      "b2 ** b1 = 343\n",
      "b2 // b1 = 2\n"
     ]
    }
   ],
   "source": [
    "b1 = 3\n",
    "b2 = 7\n",
    "print(f\"b1 + b2 = {b1+b2}\")     #加法\n",
    "print(f\"b2 - b1 = {b2 - b1}\")   #減法\n",
    "print(f\"b2 * b1 = {b2 * b1}\")   #乘法\n",
    "print(f\"b2 / b1 = {b2 / b1}\")   #除法\n",
    "print(f'int(b2 / b1) = {int(b2/b1)}')  #取整數/轉換成十進位的函式\n",
    "print(f'b2 / b1到小數點第三位 = {round(b2/b1, 3)}')  #到小數點第三位\n",
    "print(f\"b2 % b1 = {b2 % b1}\")   #取餘數\n",
    "print(f\"b2 ** b1 = {b2 ** b1}\") #次方\n",
    "print(f\"b2 // b1 = {b2 // b1}\") #取整數部分"
   ]
  },
  {
   "cell_type": "code",
   "execution_count": 4,
   "metadata": {},
   "outputs": [],
   "source": [
    "a = 7 \n",
    "b = 2\n",
    "a = (b) * int(a/b) + (a%b)"
   ]
  },
  {
   "cell_type": "code",
   "execution_count": 5,
   "metadata": {},
   "outputs": [
    {
     "name": "stdout",
     "output_type": "stream",
     "text": [
      "b1 = 9\n",
      "b1 = 2\n"
     ]
    }
   ],
   "source": [
    "b1 = 2 #加減的另外寫法\n",
    "b2 = 7\n",
    "b1 = b1 + b2\n",
    "print(\"b1 =\", b1)\n",
    "b1 = b1 - b2\n",
    "print(\"b1 =\", b1)"
   ]
  },
  {
   "cell_type": "code",
   "execution_count": 6,
   "metadata": {},
   "outputs": [
    {
     "data": {
      "text/plain": [
       "7"
      ]
     },
     "execution_count": 6,
     "metadata": {},
     "output_type": "execute_result"
    }
   ],
   "source": [
    "a = 7 #考\n",
    "b = 2\n",
    "a = (b) * int(a/b) + (a%b)\n",
    "a"
   ]
  },
  {
   "cell_type": "code",
   "execution_count": 7,
   "metadata": {},
   "outputs": [
    {
     "name": "stdout",
     "output_type": "stream",
     "text": [
      "hello, 110.00000000000001\n",
      "110\n",
      "0b1010\n",
      "10\n"
     ]
    }
   ],
   "source": [
    "apple = 100\n",
    "Apple = apple * 1.1 #因小數點計算\n",
    "print('hello,',Apple)#因二進位計算的關係，所以會有誤差\n",
    "print(int(Apple))\n",
    "\n",
    "print(bin(10))#二進位的打法\n",
    "print(int('1010', base = 2))#轉回十進位\n",
    "#print(int(1010, base = 2))#報錯\n",
    "\n",
    "#num = input('請輸入十進位')\n",
    "#print(bin(int(num)))"
   ]
  },
  {
   "cell_type": "code",
   "execution_count": 8,
   "metadata": {},
   "outputs": [
    {
     "name": "stdout",
     "output_type": "stream",
     "text": [
      "[10, 20, 30, 40, 50]\n",
      "['a', 'b', 'c', 'd']\n",
      "['張三', '台中市西屯區寧夏路240號', '0912-000111', '2005/4/20', 170, 65.3]\n",
      "['a', 'b', 'c', 'd', 200]\n"
     ]
    }
   ],
   "source": [
    "#串列的建立\n",
    "list1 = [10, 20, 30, 40, 50]\n",
    "list2 = [\"a\", \"b\", \"c\", \"d\"]\n",
    "list3 = ['張三', '台中市西屯區寧夏路240號',  \"0912-000111\", \"2005/4/20\", 170 , 65.3]\n",
    "\n",
    "print(list1)\n",
    "print(list2)\n",
    "print(list3)\n",
    "\n",
    "list2.append(200)#增加\n",
    "print(list2)"
   ]
  },
  {
   "cell_type": "code",
   "execution_count": 9,
   "metadata": {},
   "outputs": [
    {
     "name": "stdout",
     "output_type": "stream",
     "text": [
      "10\n",
      "['c', 'd', 'e']\n"
     ]
    }
   ],
   "source": [
    "#串列資料的取用\n",
    "list1 = [10, 20, 30, 40, 50]\n",
    "list2 = [\"a\", \"b\", \"c\", \"d\", \"e\", \"f\"]\n",
    "\n",
    "print (list1[0])\n",
    "print (list2[2:5])"
   ]
  },
  {
   "cell_type": "code",
   "execution_count": 10,
   "metadata": {},
   "outputs": [
    {
     "name": "stdout",
     "output_type": "stream",
     "text": [
      "第4個元素為 :  40\n",
      "更新後的第4個元素為 :  95\n",
      "現在的list為: [10, 20, 30, 95, 50]\n",
      "刪除第3個元素後 :  [10, 20, 95, 50]\n"
     ]
    }
   ],
   "source": [
    "list = [10, 20, 30, 40, 50]\n",
    "\n",
    "print (\"第4個元素為 : \", list[3])\n",
    "list[3] = 95\n",
    "print (\"更新後的第4個元素為 : \", list[3])\n",
    "print(\"現在的list為:\", list)\n",
    "\n",
    "del list[2]\n",
    "print (\"刪除第3個元素後 : \", list)"
   ]
  },
  {
   "cell_type": "code",
   "execution_count": null,
   "metadata": {},
   "outputs": [],
   "source": [
    "a = input('請輸入兩個數字(範例格式:a,b)')#輸入\n",
    "b = a.split(',')#以，分開字串\n",
    "b1 = int(b[0])#轉成整數\n",
    "b2 = int(b[1])\n",
    "\n",
    "print(f'{round(b1/b2, 3)}')#到小數點第三位\n",
    "print(f'{b1}+{b2} = {b1+b2}')#基本運算、輸出"
   ]
  },
  {
   "cell_type": "code",
   "execution_count": null,
   "metadata": {},
   "outputs": [],
   "source": [
    "p1 = (100,200)#元組型態\n",
    "p1"
   ]
  },
  {
   "cell_type": "code",
   "execution_count": null,
   "metadata": {},
   "outputs": [],
   "source": [
    "#條件式\n",
    "score = int(input('輸入成績:'))\n",
    "if score < 60 and score >= 0:\n",
    "    print(\"不及格\")\n",
    "elif 100 >= score and score >= 60:\n",
    "    print(\"及格\")\n",
    "else:\n",
    "    print(\"輸入錯誤\")"
   ]
  },
  {
   "cell_type": "code",
   "execution_count": null,
   "metadata": {},
   "outputs": [],
   "source": [
    "x = int(input(\"請輸入數字:\"))\n",
    "if x % 3 == 0:\n",
    "    print(\"yes\")\n",
    "else:\n",
    "    print(\"no\")"
   ]
  },
  {
   "cell_type": "code",
   "execution_count": null,
   "metadata": {},
   "outputs": [],
   "source": [
    "for i in range(5):#迴圈\n",
    "    print(i)"
   ]
  },
  {
   "cell_type": "code",
   "execution_count": null,
   "metadata": {},
   "outputs": [],
   "source": [
    "for i in range(11,15):\n",
    "    print(i)"
   ]
  },
  {
   "cell_type": "code",
   "execution_count": null,
   "metadata": {},
   "outputs": [],
   "source": [
    "for i in range(11,20,2):\n",
    "    print(i)"
   ]
  },
  {
   "cell_type": "code",
   "execution_count": null,
   "metadata": {},
   "outputs": [],
   "source": [
    "#匯入\n",
    "import random as r\n",
    "print(r.random())\n",
    "print(r.randint(1,6))"
   ]
  },
  {
   "cell_type": "code",
   "execution_count": null,
   "metadata": {},
   "outputs": [],
   "source": [
    "#費氏數列\n",
    "def fib(n):\n",
    "    if n > 2:\n",
    "        return fib(n-1)+fib(n-2)\n",
    "    return 1\n",
    "result = fib(10)\n",
    "print(result)"
   ]
  },
  {
   "cell_type": "code",
   "execution_count": 17,
   "metadata": {
    "scrolled": true
   },
   "outputs": [
    {
     "name": "stdout",
     "output_type": "stream",
     "text": [
      "              *\n",
      "             ***\n",
      "            *****\n",
      "           *******\n",
      "          *********\n",
      "         ***********\n",
      "        *************\n",
      "       ***************\n",
      "      *****************\n",
      "     *******************\n",
      "    *********************\n",
      "   ***********************\n",
      "  *************************\n",
      " ***************************\n",
      "*****************************\n"
     ]
    }
   ],
   "source": [
    "#星行金字塔\n",
    "a = 15                       # 新增變數 a，設定金字塔有幾層\n",
    "b = a*2+1                    # 新增變數 b，計算底部有幾個星星\n",
    "for i in range(1,b,2):       # 使用 for 迴圈，從 1～b，每隔 2 個一數\n",
    "    move = round((b-i)/2)-1  # 計算星星的位移空白 ( 要將星星都置中 )\n",
    "    print(' '*move, end='') # 印出星星前方的位移空白 ( 不換行 )\n",
    "    print('*'*i)             # 加上「幾個星星」( 乘以 i )"
   ]
  },
  {
   "cell_type": "code",
   "execution_count": 1,
   "metadata": {},
   "outputs": [
    {
     "name": "stdout",
     "output_type": "stream",
     "text": [
      "1x1=1 1x2=2 1x3=3 1x4=4 1x5=5 1x6=6 1x7=7 1x8=8 1x9=9 \n",
      "2x1=2 2x2=4 2x3=6 2x4=8 2x5=10 2x6=12 2x7=14 2x8=16 2x9=18 \n",
      "3x1=3 3x2=6 3x3=9 3x4=12 3x5=15 3x6=18 3x7=21 3x8=24 3x9=27 \n",
      "4x1=4 4x2=8 4x3=12 4x4=16 4x5=20 4x6=24 4x7=28 4x8=32 4x9=36 \n",
      "5x1=5 5x2=10 5x3=15 5x4=20 5x5=25 5x6=30 5x7=35 5x8=40 5x9=45 \n",
      "6x1=6 6x2=12 6x3=18 6x4=24 6x5=30 6x6=36 6x7=42 6x8=48 6x9=54 \n",
      "7x1=7 7x2=14 7x3=21 7x4=28 7x5=35 7x6=42 7x7=49 7x8=56 7x9=63 \n",
      "8x1=8 8x2=16 8x3=24 8x4=32 8x5=40 8x6=48 8x7=56 8x8=64 8x9=72 \n",
      "9x1=9 9x2=18 9x3=27 9x4=36 9x5=45 9x6=54 9x7=63 9x8=72 9x9=81 \n"
     ]
    }
   ],
   "source": [
    "#99乘法表\n",
    "for a in range(1, 10):               # 讓 a 從 1 執行到 9\n",
    "    for b in range(1, 10):             # 讓 b 從 1 執行到 9\n",
    "        print(f'{a}x{b}={a*b}',end=' ')\n",
    "      # 使用格式化字串，印出產生對應的字串，最後加上 end=' '表示不換行\n",
    "    print('')\n",
    "    # 內層迴圈執行結束後，執行 print('') 會換行顯示"
   ]
  },
  {
   "cell_type": "code",
   "execution_count": null,
   "metadata": {},
   "outputs": [],
   "source": [
    "#複習\n",
    "a = 3\n",
    "b = 5\n",
    "c = a + b\n",
    "print(\"1.\",c)\n",
    "c = c + a # 另一種寫法 c += a\n",
    "print(\"2.\",c)\n",
    "c = c - b # 另一種寫法 c -= b\n",
    "print(\"3.\",c)"
   ]
  },
  {
   "cell_type": "code",
   "execution_count": null,
   "metadata": {},
   "outputs": [],
   "source": [
    "ans = bin(10) #將十進位數字轉成二進位字串\n",
    "print(ans) #此時的ans為字串\n",
    "\n",
    "c_v = int(ans, base = 2)  #將二進位字串ans轉回十進位\n",
    "print(c_v)  "
   ]
  },
  {
   "cell_type": "code",
   "execution_count": null,
   "metadata": {},
   "outputs": [],
   "source": [
    "#9/26\n",
    "x = int(input(\"請輸入班級人數:\"))\n",
    "need = (x//12)*50 + x%12*5\n",
    "print(f\"需要{need}元\")"
   ]
  },
  {
   "cell_type": "code",
   "execution_count": null,
   "metadata": {},
   "outputs": [],
   "source": [
    "#10/3\n",
    "\n",
    "#list\n",
    "list1 = [10,20,30,40]\n",
    "\n",
    "list1.append(50)   #將元素加入list1的最後一個位置\n",
    "print(\"1.\",list1)\n",
    "\n",
    "list1[0] = 60      #將list1中的第0個元素改成60\n",
    "print(\"2.\",list1)\n",
    "\n",
    "del list1[1]       #將list1的第1個元素刪除\n",
    "print(\"3.\",list1)\n",
    "\n",
    "#for迴圈\n",
    "for a in range(3,10,2):\n",
    "    print(\"a =\",a)    \n",
    "    \n",
    "#條件式\n",
    "x = int(input(\"請輸入一個數:\"))\n",
    "if x > 10:\n",
    "    print(\">10\")\n",
    "elif x == 10:\n",
    "    print(\"=10\")\n",
    "else:\n",
    "    print(\"<10\")"
   ]
  },
  {
   "cell_type": "code",
   "execution_count": 11,
   "metadata": {},
   "outputs": [
    {
     "name": "stdout",
     "output_type": "stream",
     "text": [
      "[2, 2, 2, 2, 2, 2, 2, 2, 2, 2]\n",
      "[[0. 0. 5. 0. 0.]\n",
      " [0. 0. 0. 0. 0.]]\n",
      "[[4 4 3 4 4]\n",
      " [4 4 4 4 4]]\n"
     ]
    }
   ],
   "source": [
    "#陣列創造\n",
    "import numpy as np\n",
    "fib = [2]*10\n",
    "print(fib)\n",
    "\n",
    "list2 = np.zeros((2,5)) # 用0這個數填滿2*5的二維陣列\n",
    "print(list2)\n",
    "\n",
    "\n",
    "list3 = np.full((2,5),4) #用4這個數填滿2*5的陣列\n",
    "list3[0][2]=3  #將第0列第2行的元素改成3\n",
    "print(list3)"
   ]
  },
  {
   "cell_type": "code",
   "execution_count": 10,
   "metadata": {},
   "outputs": [
    {
     "name": "stdout",
     "output_type": "stream",
     "text": [
      "請輸入一個數:2\n",
      "請輸入一個數:3\n",
      "請輸入一個數:4\n",
      "[2, 3, 4, 5]\n"
     ]
    }
   ],
   "source": [
    "#等差數列\n",
    "fib = [2]*3  #創一個擁有3個元素的一維陣列\n",
    "for i in range(3):  #用for迴圈將該一維陣列中的每一個元素，由輸入者訂定\n",
    "    fib[i] = int(input(\"請輸入一個數:\")) #輸入限定為等差數列\n",
    "    \n",
    "d = fib[1]-fib[0]  #公差(第1個元素的值減掉第0個元素的值)\n",
    "\n",
    "fib.append(fib[2] + d) #將等差數列之第4個元素，加入fib的一維陣列之最後\n",
    "print(fib)\n",
    "\n",
    "#隨堂測驗:隨意給三個數所形成的一數列，確認此數列是否為等差數列"
   ]
  },
  {
   "cell_type": "code",
   "execution_count": 3,
   "metadata": {},
   "outputs": [
    {
     "name": "stdout",
     "output_type": "stream",
     "text": [
      "(6.123233995736766e-17+1j)\n"
     ]
    }
   ],
   "source": [
    "x = -1\n",
    "print(x ** 0.5)"
   ]
  },
  {
   "cell_type": "code",
   "execution_count": 7,
   "metadata": {},
   "outputs": [
    {
     "name": "stdout",
     "output_type": "stream",
     "text": [
      "(2+0j)\n"
     ]
    }
   ],
   "source": [
    "#用於負數、複數的開方運算\n",
    "import cmath\n",
    "x = cmath.sqrt(4)\n",
    "print(x)"
   ]
  },
  {
   "cell_type": "code",
   "execution_count": 14,
   "metadata": {},
   "outputs": [
    {
     "name": "stdout",
     "output_type": "stream",
     "text": [
      "*\n",
      "**\n",
      "***\n",
      "****\n",
      "*****\n",
      "******\n",
      "*******\n",
      "********\n",
      "*********\n"
     ]
    }
   ],
   "source": [
    "#星行直角三角形\n",
    "for i in range(1,10):\n",
    "    print(\"*\"*i) "
   ]
  },
  {
   "cell_type": "code",
   "execution_count": 16,
   "metadata": {},
   "outputs": [
    {
     "name": "stdout",
     "output_type": "stream",
     "text": [
      "hhhhh\n"
     ]
    }
   ],
   "source": [
    "print(\"h\"*5)#印五個h"
   ]
  },
  {
   "cell_type": "code",
   "execution_count": 18,
   "metadata": {},
   "outputs": [
    {
     "name": "stdout",
     "output_type": "stream",
     "text": [
      "yyyyy\n",
      "xxxxxzzzzz\n"
     ]
    }
   ],
   "source": [
    "print(\"y\"*5)#印五個y\n",
    "print(\"x\"*5, end = '')#印五個x且不換行\n",
    "print(\"z\"*5)#印五個z"
   ]
  },
  {
   "cell_type": "code",
   "execution_count": null,
   "metadata": {},
   "outputs": [],
   "source": [
    "items = {'apple':10, 'orange':20}#字典型態\n",
    "print(items['apple'])\n",
    "items['apple'] = 50\n",
    "items"
   ]
  },
  {
   "cell_type": "code",
   "execution_count": 2,
   "metadata": {},
   "outputs": [
    {
     "name": "stdout",
     "output_type": "stream",
     "text": [
      "1080\n"
     ]
    }
   ],
   "source": [
    "#函式\n",
    "def tax_include(tax,price):\n",
    "    tax_in = price + price * (tax * 0.01)\n",
    "    return int(tax_in)\n",
    "\n",
    "sell_price = tax_include(8 , 1000)\n",
    "print(sell_price)"
   ]
  },
  {
   "cell_type": "code",
   "execution_count": 3,
   "metadata": {},
   "outputs": [
    {
     "name": "stdout",
     "output_type": "stream",
     "text": [
      "0\n",
      "1\n",
      "2\n",
      "3\n",
      "4\n",
      "5\n",
      "6\n",
      "7\n",
      "8\n",
      "9\n",
      "10\n"
     ]
    }
   ],
   "source": [
    "#WHILE \n",
    "x = 0\n",
    "while True:\n",
    "    print(x)\n",
    "    x = x + 1\n",
    "    if x > 10:\n",
    "        break"
   ]
  },
  {
   "cell_type": "code",
   "execution_count": null,
   "metadata": {},
   "outputs": [],
   "source": [
    "#布林直\n",
    "x = 0\n",
    "condition = True\n",
    "\n",
    "while condition == True:\n",
    "    print(x)\n",
    "    x = x + 1\n",
    "    if x > 10:\n",
    "        condition = False"
   ]
  },
  {
   "cell_type": "code",
   "execution_count": 5,
   "metadata": {},
   "outputs": [
    {
     "name": "stdout",
     "output_type": "stream",
     "text": [
      "False\n"
     ]
    }
   ],
   "source": [
    "#井字後為註解文字\n",
    "weather = 'rainy' #定義一個weather變數，代表天氣\n",
    "isRaining = weather == 'rainy' #判斷 weather 是否等於'rainy',並儲存結果\n",
    "print(not(isRaining)) #顯示變數isRaining的值"
   ]
  },
  {
   "cell_type": "code",
   "execution_count": 7,
   "metadata": {},
   "outputs": [
    {
     "data": {
      "image/png": "[encoded data removed]",
      "text/plain": [
       "<Figure size 432x288 with 1 Axes>"
      ]
     },
     "metadata": {
      "needs_background": "light"
     },
     "output_type": "display_data"
    }
   ],
   "source": [
    "#繪圖\n",
    "import matplotlib.pyplot as plt\n",
    "x1 = [1,2,3,4,5]\n",
    "y1 = [4,2,5,1,3]\n",
    "\n",
    "plt.grid(color='0.8') #產生網格\n",
    "plt.plot(x1,y1)\n",
    "plt.show()\n",
    "#問題:如何產生一條過原點的直線(透過改變點的數值)\n",
    "#定義一個函數，使他可以幫我產生想要(通過運算後)的y值\n",
    "#對稱"
   ]
  },
  {
   "cell_type": "code",
   "execution_count": 11,
   "metadata": {},
   "outputs": [
    {
     "name": "stdout",
     "output_type": "stream",
     "text": [
      "True\n",
      "True\n"
     ]
    }
   ],
   "source": [
    "#布林值、邏輯的運算符號\n",
    "print(True and True)\n",
    "print(True or False)"
   ]
  },
  {
   "cell_type": "code",
   "execution_count": 18,
   "metadata": {},
   "outputs": [
    {
     "name": "stdout",
     "output_type": "stream",
     "text": [
      "True\n"
     ]
    }
   ],
   "source": [
    "#成績\n",
    "def prepared_for_weather(have_umbrella, rain_level, have_hood, is_workday):\n",
    "    return have_umbrella or rain_level < 5 and have_hood or not rain_level > 0 and is_workday\n",
    "\n",
    "have_umbrella = False\n",
    "rain_level = 0.0\n",
    "have_hood = False\n",
    "is_workday = True\n",
    "\n",
    "actual = prepared_for_weather(have_umbrella, rain_level, have_hood, is_workday)\n",
    "print(actual)"
   ]
  }
 ],
 "metadata": {
  "kernelspec": {
   "display_name": "Python 3 (ipykernel)",
   "language": "python",
   "name": "python3"
  },
  "language_info": {
   "codemirror_mode": {
    "name": "ipython",
    "version": 3
   },
   "file_extension": ".py",
   "mimetype": "text/x-python",
   "name": "python",
   "nbconvert_exporter": "python",
   "pygments_lexer": "ipython3",
   "version": "3.7.6"
  }
 },
 "nbformat": 4,
 "nbformat_minor": 4
}
