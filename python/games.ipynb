{
 "cells": [
  {
   "cell_type": "code",
   "execution_count": 15,
   "id": "e0882c82",
   "metadata": {},
   "outputs": [
    {
     "name": "stdout",
     "output_type": "stream",
     "text": [
      "ant\n",
      "avoid\n",
      "bagels\n",
      "bounce\n",
      "cannon\n",
      "connect\n",
      "crypto\n",
      "fidget\n",
      "flappy\n",
      "guess\n",
      "illusion\n",
      "life\n",
      "madlibs\n",
      "maze\n",
      "memory\n",
      "minesweeper\n",
      "pacman\n",
      "paint\n",
      "pong\n",
      "rps\n",
      "simonsays\n",
      "snake\n",
      "tictactoe\n",
      "tiles\n",
      "tron\n",
      "typing\n"
     ]
    }
   ],
   "source": [
    "!python -m freegames list"
   ]
  },
  {
   "cell_type": "code",
   "execution_count": null,
   "id": "f29742f3",
   "metadata": {},
   "outputs": [],
   "source": [
    "!python -m freegames.paint"
   ]
  },
  {
   "cell_type": "code",
   "execution_count": 4,
   "id": "ffff4a77",
   "metadata": {},
   "outputs": [
    {
     "name": "stdout",
     "output_type": "stream",
     "text": [
      "Snake: 2\n",
      "Snake: 3\n",
      "Snake: 4\n",
      "Snake: 5\n",
      "Snake: 6\n",
      "Snake: 7\n",
      "Snake: 8\n",
      "Snake: 9\n",
      "Snake: 10\n",
      "Snake: 11\n",
      "Snake: 12\n",
      "Snake: 13\n",
      "Snake: 14\n"
     ]
    }
   ],
   "source": [
    "!python -m freegames.snake"
   ]
  },
  {
   "cell_type": "code",
   "execution_count": 5,
   "id": "d29227b8",
   "metadata": {},
   "outputs": [],
   "source": [
    "!python -m freegames.pacman"
   ]
  },
  {
   "cell_type": "code",
   "execution_count": 6,
   "id": "98e8e85e",
   "metadata": {},
   "outputs": [],
   "source": [
    "!python -m freegames.cannon"
   ]
  },
  {
   "cell_type": "code",
   "execution_count": 13,
   "id": "7400400c",
   "metadata": {},
   "outputs": [],
   "source": [
    "!python -m freegames.pong"
   ]
  },
  {
   "cell_type": "code",
   "execution_count": 14,
   "id": "ce276d02",
   "metadata": {},
   "outputs": [],
   "source": [
    "!python -m freegames.tiles "
   ]
  },
  {
   "cell_type": "code",
   "execution_count": null,
   "id": "a4c36d71",
   "metadata": {},
   "outputs": [],
   "source": [
    "#以上為python freegames的小遊戲"
   ]
  },
  {
   "cell_type": "code",
   "execution_count": 17,
   "id": "91d8c799",
   "metadata": {},
   "outputs": [
    {
     "name": "stdout",
     "output_type": "stream",
     "text": [
      "猜一個數字:33\n",
      "太小了\n",
      "猜一個數字:55\n",
      "太大了\n",
      "猜一個數字:44\n",
      "太小了\n",
      "猜一個數字:46\n",
      "太小了\n",
      "猜一個數字:50\n",
      "太小了\n",
      "猜一個數字:53\n",
      "答對了\n"
     ]
    }
   ],
   "source": [
    "#自己開發文字小遊戲\n",
    "#ex.猜數字\n",
    "import random\n",
    "ans = random.randrange(0,100,1)\n",
    "temp = -1\n",
    "while temp != ans:\n",
    "    temp = int(input(\"猜一個數字:\"))\n",
    "    if temp > ans:\n",
    "        print(\"太大了\")\n",
    "    elif temp < ans:\n",
    "        print(\"太小了\")\n",
    "    else:\n",
    "        print(\"答對了\")\n",
    "        break"
   ]
  },
  {
   "cell_type": "code",
   "execution_count": null,
   "id": "7445c7f1",
   "metadata": {},
   "outputs": [],
   "source": []
  }
 ],
 "metadata": {
  "kernelspec": {
   "display_name": "Python 3 (ipykernel)",
   "language": "python",
   "name": "python3"
  },
  "language_info": {
   "codemirror_mode": {
    "name": "ipython",
    "version": 3
   },
   "file_extension": ".py",
   "mimetype": "text/x-python",
   "name": "python",
   "nbconvert_exporter": "python",
   "pygments_lexer": "ipython3",
   "version": "3.7.6"
  }
 },
 "nbformat": 4,
 "nbformat_minor": 5
}
