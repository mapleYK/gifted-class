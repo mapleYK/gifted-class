{
 "cells": [
  {
   "cell_type": "code",
   "execution_count": 1,
   "id": "7a09939c",
   "metadata": {},
   "outputs": [
    {
     "name": "stdout",
     "output_type": "stream",
     "text": [
      "ant\n",
      "avoid\n",
      "bagels\n",
      "bounce\n",
      "cannon\n",
      "connect\n",
      "crypto\n",
      "fidget\n",
      "flappy\n",
      "guess\n",
      "illusion\n",
      "life\n",
      "madlibs\n",
      "maze\n",
      "memory\n",
      "minesweeper\n",
      "pacman\n",
      "paint\n",
      "pong\n",
      "rps\n",
      "simonsays\n",
      "snake\n",
      "tictactoe\n",
      "tiles\n",
      "tron\n",
      "typing\n"
     ]
    }
   ],
   "source": [
    "!python -m freegames list"
   ]
  },
  {
   "cell_type": "code",
   "execution_count": 2,
   "id": "85f070f9",
   "metadata": {},
   "outputs": [],
   "source": [
    "!python -m freegames.paint"
   ]
  },
  {
   "cell_type": "code",
   "execution_count": 3,
   "id": "6e85fb61",
   "metadata": {},
   "outputs": [],
   "source": [
    "!python -m freegames.snake"
   ]
  },
  {
   "cell_type": "code",
   "execution_count": 4,
   "id": "7570d496",
   "metadata": {},
   "outputs": [],
   "source": [
    "!python -m freegames.pacman"
   ]
  },
  {
   "cell_type": "code",
   "execution_count": 5,
   "id": "d0f5c3ef",
   "metadata": {},
   "outputs": [],
   "source": [
    "!python -m freegames.cannon"
   ]
  },
  {
   "cell_type": "code",
   "execution_count": 6,
   "id": "011484b7",
   "metadata": {},
   "outputs": [],
   "source": [
    "!python -m freegames.pong"
   ]
  },
  {
   "cell_type": "code",
   "execution_count": 7,
   "id": "6d40a47f",
   "metadata": {},
   "outputs": [],
   "source": [
    "!python -m freegames.tiles "
   ]
  },
  {
   "cell_type": "code",
   "execution_count": 8,
   "id": "1635aa57",
   "metadata": {},
   "outputs": [],
   "source": [
    "#以上為python freegames的小遊戲"
   ]
  },
  {
   "cell_type": "code",
   "execution_count": null,
   "id": "074b2c5b",
   "metadata": {},
   "outputs": [],
   "source": [
    "#自己開發文字小遊戲\n",
    "#ex.猜數字\n",
    "import random\n",
    "ans = random.randrange(0,100,1)\n",
    "temp = -1\n",
    "while temp != ans:\n",
    "    temp = int(input(\"猜一個數字:\"))\n",
    "    if temp > ans:\n",
    "        print(\"太大了\")\n",
    "    elif temp < ans:\n",
    "        print(\"太小了\")\n",
    "    else:\n",
    "        print(\"答對了\")\n",
    "        break"
   ]
  },
  {
   "cell_type": "code",
   "execution_count": null,
   "id": "cf8a317c",
   "metadata": {},
   "outputs": [],
   "source": [
    "import calendar\n",
    "print(calendar.month(2019,5))"
   ]
  },
  {
   "cell_type": "code",
   "execution_count": null,
   "id": "ae21a1e7",
   "metadata": {},
   "outputs": [],
   "source": [
    "#猜謎遊戲\n",
    "print(\"我叫什麼名字?\")\n",
    "ans = input()\n",
    "if ans == \"黃意婷\" or ans == \"lucy\":\n",
    "    print(\"答對了!\")\n",
    "else:\n",
    "    print(\"答錯了!\")"
   ]
  },
  {
   "cell_type": "code",
   "execution_count": null,
   "id": "082f4661",
   "metadata": {},
   "outputs": [],
   "source": [
    "#猜謎遊戲(多個問題)\n",
    "question = [\"我叫什麼名字?\",\"我幾歲?\",\"我的性別?\"]\n",
    "real_ans = [\"黃意婷\",\"18\",\"女\"]\n",
    "\n",
    "for i in range(3):\n",
    "    print(question[i])\n",
    "    ans = input()\n",
    "    if ans == real_ans[i]:\n",
    "        print(\"答對了\")\n",
    "    else:\n",
    "        print(\"答錯了\")"
   ]
  },
  {
   "cell_type": "code",
   "execution_count": 3,
   "id": "7c3bb801",
   "metadata": {},
   "outputs": [
    {
     "name": "stdout",
     "output_type": "stream",
     "text": [
      ".....P........................\n"
     ]
    }
   ],
   "source": [
    "#大富翁\n",
    "pl_pos = 6\n",
    "\n",
    "def banmen():\n",
    "    print(\".\"*(pl_pos-1) + \"P\" + \".\"*(30-pl_pos) + \"Goal\")\n",
    "\n",
    "banmen()"
   ]
  }
 ],
 "metadata": {
  "kernelspec": {
   "display_name": "Python 3 (ipykernel)",
   "language": "python",
   "name": "python3"
  },
  "language_info": {
   "codemirror_mode": {
    "name": "ipython",
    "version": 3
   },
   "file_extension": ".py",
   "mimetype": "text/x-python",
   "name": "python",
   "nbconvert_exporter": "python",
   "pygments_lexer": "ipython3",
   "version": "3.7.6"
  }
 },
 "nbformat": 4,
 "nbformat_minor": 5
}
