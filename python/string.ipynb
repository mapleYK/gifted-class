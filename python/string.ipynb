{
 "cells": [
  {
   "cell_type": "code",
   "execution_count": 7,
   "id": "ee8c8264",
   "metadata": {},
   "outputs": [
    {
     "name": "stdout",
     "output_type": "stream",
     "text": [
      "一、有b這個字元\n",
      "二、沒有g這個字元\n",
      "三、e在字串的第 3 位\n",
      "四、字串不相等\n",
      "出現 4 次c\n"
     ]
    }
   ],
   "source": [
    "#字串比對\n",
    "\n",
    "a = \"bcde\"\n",
    "f = \"bcdgbccc\"\n",
    "#使用 in\n",
    "if \"b\" in a:\n",
    "    print(\"一、有b這個字元\")\n",
    "else:\n",
    "    print(\"一、沒有b這個字元\")\n",
    "    \n",
    "#使用 not in\n",
    "if \"g\" not in a:\n",
    "    print(\"二、沒有g這個字元\")\n",
    "else:\n",
    "    print(\"二、有g這個字元\")\n",
    "\n",
    "#找尋字元位置，find() \n",
    "position = a.find(\"e\")\n",
    "print(\"三、e在字串的第\",position,\"位\")\n",
    "\n",
    "#使用==判斷字串是否相符(也可使用!=來判斷)\n",
    "if a==f:\n",
    "    print(\"四、字串相等\")\n",
    "else:\n",
    "    print(\"四、字串不相等\")\n",
    "    \n",
    "#出現次數，count()\n",
    "ans = f.count(\"c\")\n",
    "print(\"五、出現\",ans,\"次c\")"
   ]
  },
  {
   "cell_type": "code",
   "execution_count": null,
   "id": "eb4b0573",
   "metadata": {},
   "outputs": [],
   "source": []
  }
 ],
 "metadata": {
  "kernelspec": {
   "display_name": "Python 3 (ipykernel)",
   "language": "python",
   "name": "python3"
  },
  "language_info": {
   "codemirror_mode": {
    "name": "ipython",
    "version": 3
   },
   "file_extension": ".py",
   "mimetype": "text/x-python",
   "name": "python",
   "nbconvert_exporter": "python",
   "pygments_lexer": "ipython3",
   "version": "3.7.6"
  }
 },
 "nbformat": 4,
 "nbformat_minor": 5
}
