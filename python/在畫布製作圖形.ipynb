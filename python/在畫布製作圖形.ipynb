{
 "cells": [
  {
   "cell_type": "code",
   "execution_count": 22,
   "id": "2b135437",
   "metadata": {},
   "outputs": [],
   "source": [
    "import tkinter as tk\n",
    "root = tk.Tk()\n",
    "root.title(\"在畫布繪製圖形\")\n",
    "root.geometry(\"500x400\")\n",
    "cvs = tk.Canvas(root, width=500, height=400, bg=\"white\")\n",
    "cvs.pack()\n",
    "\n",
    "cvs.create_text(250,25, text = \"字串\", fill=\"green\", font=(\"System\", 24))\n",
    "cvs.create_line(30,30,70,80, fill=\"navy\", width=5)\n",
    "cvs.create_line(120,20,80,50,200,80,140,120, fill=\"blue\", smooth=True)\n",
    "cvs.create_rectangle(40,140,160,200, fill=\"lime\")\n",
    "cvs.create_rectangle(60,240,120,360, fill=\"pink\", outline=\"red\", width=5)\n",
    "cvs.create_oval(250-40,100-40,250+40,100+40,fill=\"silver\",outline=\"purple\")\n",
    "cvs.create_oval(250-80,200-40,250+80,200+40,fill=\"cyan\",width=0)\n",
    "cvs.create_polygon(250,250,150,350,350,350,fill=\"magenta\",width=0)\n",
    "cvs.create_arc(400-50,100-50,400+50,100+50,fill=\"yellow\",start=30,extent=300)\n",
    "cvs.create_arc(400-50,250-50,400+50,250+50,fill=\"gold\",start=0,extent=120,style=tk.CHORD)\n",
    "cvs.create_arc(400-50,350-50,400+50,350+50,outline=\"orange\",start=0,extent=120,style=tk.ARC)\n",
    "\n",
    "cvs.mainloop()"
   ]
  },
  {
   "cell_type": "code",
   "execution_count": null,
   "id": "cfaf0bd3",
   "metadata": {},
   "outputs": [],
   "source": []
  }
 ],
 "metadata": {
  "kernelspec": {
   "display_name": "Python 3 (ipykernel)",
   "language": "python",
   "name": "python3"
  },
  "language_info": {
   "codemirror_mode": {
    "name": "ipython",
    "version": 3
   },
   "file_extension": ".py",
   "mimetype": "text/x-python",
   "name": "python",
   "nbconvert_exporter": "python",
   "pygments_lexer": "ipython3",
   "version": "3.7.6"
  }
 },
 "nbformat": 4,
 "nbformat_minor": 5
}
