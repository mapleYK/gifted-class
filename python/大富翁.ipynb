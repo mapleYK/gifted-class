{
 "cells": [
  {
   "cell_type": "code",
   "execution_count": 1,
   "id": "83bcdbf3",
   "metadata": {},
   "outputs": [
    {
     "name": "stdout",
     "output_type": "stream",
     "text": [
      ".....P........................Goal\n"
     ]
    }
   ],
   "source": [
    "#大富翁-新增玩家位置\n",
    "pl_pos = 6\n",
    "\n",
    "def banmen():\n",
    "    print(\".\"*(pl_pos-1) + \"P\" + \".\"*(30-pl_pos) + \"Goal\")\n",
    "\n",
    "banmen()"
   ]
  },
  {
   "cell_type": "code",
   "execution_count": 2,
   "id": "0db79969",
   "metadata": {},
   "outputs": [
    {
     "name": "stdout",
     "output_type": "stream",
     "text": [
      ".....P........................Goal\n",
      "..C...........................Goal\n"
     ]
    }
   ],
   "source": [
    "#大富翁-新增電腦位置\n",
    "pl_pos = 6\n",
    "com_pos = 3\n",
    "def banmen():\n",
    "    print(\".\"*(pl_pos-1) + \"P\" + \".\"*(30-pl_pos) + \"Goal\")\n",
    "    print(\".\"*(com_pos-1) + \"C\" + \".\"*(30-com_pos) + \"Goal\")\n",
    "\n",
    "banmen()"
   ]
  },
  {
   "cell_type": "code",
   "execution_count": null,
   "id": "658af5a8",
   "metadata": {},
   "outputs": [
    {
     "name": "stdout",
     "output_type": "stream",
     "text": [
      "P.............................Goal\n",
      "C.............................Goal\n"
     ]
    }
   ],
   "source": [
    "#大富翁-利用迴圈推進\n",
    "pl_pos = 1\n",
    "com_pos = 1\n",
    "\n",
    "def banmen():\n",
    "    print(\".\"*(pl_pos-1) + \"P\" + \".\"*(30-pl_pos) + \"Goal\")\n",
    "    print(\".\"*(com_pos-1) + \"C\" + \".\"*(30-com_pos) + \"Goal\")\n",
    "\n",
    "while True:\n",
    "    banmen()\n",
    "    input(\"按下enter就會前進\")\n",
    "    pl_pos += 1\n",
    "    com_pos += 1"
   ]
  },
  {
   "cell_type": "code",
   "execution_count": null,
   "id": "d251c1c6",
   "metadata": {},
   "outputs": [],
   "source": [
    "#大富翁-匯入random模組，使玩家與電腦可隨機增加步數\n",
    "import random\n",
    "\n",
    "pl_pos = 1\n",
    "com_pos = 1\n",
    "\n",
    "def banmen():\n",
    "    print(\".\"*(pl_pos-1) + \"P\" + \".\"*(30-pl_pos) + \"Goal\")\n",
    "    print(\".\"*(com_pos-1) + \"C\" + \".\"*(30-com_pos) + \"Goal\")\n",
    "\n",
    "while True:\n",
    "    banmen()\n",
    "    input(\"按下enter就會前進\")\n",
    "    pl_pos += random.randint(1,6)  #使用random模組裡的randint函式，隨機取某個整數(介於1~6之間)\n",
    "    com_pos += random.randint(1,6) "
   ]
  },
  {
   "cell_type": "code",
   "execution_count": 1,
   "id": "a069ac27",
   "metadata": {},
   "outputs": [
    {
     "name": "stdout",
     "output_type": "stream",
     "text": [
      "P.............................Goal\n",
      "C.............................Goal\n",
      "大富翁開始!\n",
      "按下enter前進\n",
      "..P...........................Goal\n",
      "C.............................Goal\n",
      "按下enter電腦前進\n",
      "..P...........................Goal\n",
      "......C.......................Goal\n",
      "按下enter前進\n",
      ".......P......................Goal\n",
      "......C.......................Goal\n",
      "按下enter電腦前進\n",
      ".......P......................Goal\n",
      "............C.................Goal\n",
      "按下enter前進\n",
      "............P.................Goal\n",
      "............C.................Goal\n",
      "按下enter電腦前進\n",
      "............P.................Goal\n",
      "..............C...............Goal\n",
      "按下enter前進\n",
      ".................P............Goal\n",
      "..............C...............Goal\n",
      "按下enter電腦前進\n",
      ".................P............Goal\n",
      "................C.............Goal\n",
      "按下enter前進\n",
      "...................P..........Goal\n",
      "................C.............Goal\n",
      "按下enter電腦前進\n",
      "...................P..........Goal\n",
      "....................C.........Goal\n",
      "按下enter前進\n",
      ".........................P....Goal\n",
      "....................C.........Goal\n",
      "按下enter電腦前進\n",
      ".........................P....Goal\n",
      ".....................C........Goal\n",
      "按下enter前進\n",
      "............................P.Goal\n",
      ".....................C........Goal\n",
      "按下enter電腦前進\n",
      "............................P.Goal\n",
      "......................C.......Goal\n",
      "按下enter前進\n",
      ".............................PGoal\n",
      "......................C.......Goal\n",
      "你獲勝了!\n"
     ]
    }
   ],
   "source": [
    "#大富翁-判斷是否抵達終點\n",
    "import random\n",
    "\n",
    "pl_pos = 1\n",
    "com_pos = 1\n",
    "\n",
    "def banmen():\n",
    "    print(\".\"*(pl_pos-1) + \"P\" + \".\"*(30-pl_pos) + \"Goal\")\n",
    "    print(\".\"*(com_pos-1) + \"C\" + \".\"*(30-com_pos) + \"Goal\")\n",
    "\n",
    "banmen()\n",
    "print(\"大富翁開始!\")\n",
    "    \n",
    "while True:\n",
    "    input(\"按下enter前進\")\n",
    "    pl_pos += random.randint(1,6) \n",
    "    if pl_pos > 30:  #若玩家位置超過30，則將玩家位置調整為30\n",
    "        pl_pos = 30\n",
    "    banmen()         #印出新的地圖資訊\n",
    "    if pl_pos == 30: #判斷是否到達終點\n",
    "        print(\"你獲勝了!\")\n",
    "        break        #停止while迴圈\n",
    "    \n",
    "    input(\"按下enter電腦前進\")\n",
    "    com_pos += random.randint(1,6) \n",
    "    if com_pos > 30: #若電腦位置超過30，則將電腦位置調整為30\n",
    "        com_pos = 30\n",
    "    banmen()         #印出新的地圖資訊\n",
    "    if com_pos == 30:#判斷是否到達終點\n",
    "        print(\"電腦獲勝!\")\n",
    "        break        #停止while迴圈"
   ]
  },
  {
   "cell_type": "code",
   "execution_count": null,
   "id": "e3eed657",
   "metadata": {},
   "outputs": [],
   "source": []
  }
 ],
 "metadata": {
  "kernelspec": {
   "display_name": "Python 3 (ipykernel)",
   "language": "python",
   "name": "python3"
  },
  "language_info": {
   "codemirror_mode": {
    "name": "ipython",
    "version": 3
   },
   "file_extension": ".py",
   "mimetype": "text/x-python",
   "name": "python",
   "nbconvert_exporter": "python",
   "pygments_lexer": "ipython3",
   "version": "3.7.6"
  }
 },
 "nbformat": 4,
 "nbformat_minor": 5
}
