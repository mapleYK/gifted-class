{
 "cells": [
  {
   "cell_type": "code",
   "execution_count": 1,
   "id": "8c0d40cf",
   "metadata": {},
   "outputs": [
    {
     "name": "stdout",
     "output_type": "stream",
     "text": [
      ".....P........................Goal\n"
     ]
    }
   ],
   "source": [
    "#大富翁-新增玩家位置\n",
    "pl_pos = 6\n",
    "\n",
    "def banmen():\n",
    "    print(\".\"*(pl_pos-1) + \"P\" + \".\"*(30-pl_pos) + \"Goal\")\n",
    "\n",
    "banmen()"
   ]
  },
  {
   "cell_type": "code",
   "execution_count": 2,
   "id": "36eb0391",
   "metadata": {},
   "outputs": [
    {
     "name": "stdout",
     "output_type": "stream",
     "text": [
      ".....P........................Goal\n",
      "..C...........................Goal\n"
     ]
    }
   ],
   "source": [
    "#大富翁-新增電腦位置\n",
    "pl_pos = 6\n",
    "com_pos = 3\n",
    "def banmen():\n",
    "    print(\".\"*(pl_pos-1) + \"P\" + \".\"*(30-pl_pos) + \"Goal\")\n",
    "    print(\".\"*(com_pos-1) + \"C\" + \".\"*(30-com_pos) + \"Goal\")\n",
    "\n",
    "banmen()"
   ]
  },
  {
   "cell_type": "code",
   "execution_count": null,
   "id": "952f8a3e",
   "metadata": {},
   "outputs": [
    {
     "name": "stdout",
     "output_type": "stream",
     "text": [
      "P.............................Goal\n",
      "C.............................Goal\n"
     ]
    }
   ],
   "source": [
    "#大富翁-利用迴圈推進\n",
    "pl_pos = 1\n",
    "com_pos = 1\n",
    "\n",
    "def banmen():\n",
    "    print(\".\"*(pl_pos-1) + \"P\" + \".\"*(30-pl_pos) + \"Goal\")\n",
    "    print(\".\"*(com_pos-1) + \"C\" + \".\"*(30-com_pos) + \"Goal\")\n",
    "\n",
    "while True:\n",
    "    banmen()\n",
    "    input(\"按下enter就會前進\")\n",
    "    pl_pos += 1\n",
    "    com_pos += 1"
   ]
  },
  {
   "cell_type": "code",
   "execution_count": null,
   "id": "b61d2def",
   "metadata": {},
   "outputs": [],
   "source": [
    "#大富翁-匯入random模組，使玩家與電腦可隨機增加步數\n",
    "import random\n",
    "\n",
    "pl_pos = 1\n",
    "com_pos = 1\n",
    "\n",
    "def banmen():\n",
    "    print(\".\"*(pl_pos-1) + \"P\" + \".\"*(30-pl_pos) + \"Goal\")\n",
    "    print(\".\"*(com_pos-1) + \"C\" + \".\"*(30-com_pos) + \"Goal\")\n",
    "\n",
    "while True:\n",
    "    banmen()\n",
    "    input(\"按下enter就會前進\")\n",
    "    pl_pos += random.randint(1,6)  #使用random模組裡的randint函式，隨機取某個整數(介於1~6之間)\n",
    "    com_pos += random.randint(1,6) "
   ]
  },
  {
   "cell_type": "code",
   "execution_count": 1,
   "id": "871d772b",
   "metadata": {},
   "outputs": [
    {
     "name": "stdout",
     "output_type": "stream",
     "text": [
      "P.............................Goal\n",
      "C.............................Goal\n",
      "大富翁開始!\n",
      "按下enter前進\n",
      "..P...........................Goal\n",
      "C.............................Goal\n",
      "按下enter電腦前進\n",
      "..P...........................Goal\n",
      "......C.......................Goal\n",
      "按下enter前進\n",
      ".......P......................Goal\n",
      "......C.......................Goal\n",
      "按下enter電腦前進\n",
      ".......P......................Goal\n",
      "............C.................Goal\n",
      "按下enter前進\n",
      "............P.................Goal\n",
      "............C.................Goal\n",
      "按下enter電腦前進\n",
      "............P.................Goal\n",
      "..............C...............Goal\n",
      "按下enter前進\n",
      ".................P............Goal\n",
      "..............C...............Goal\n",
      "按下enter電腦前進\n",
      ".................P............Goal\n",
      "................C.............Goal\n",
      "按下enter前進\n",
      "...................P..........Goal\n",
      "................C.............Goal\n",
      "按下enter電腦前進\n",
      "...................P..........Goal\n",
      "....................C.........Goal\n",
      "按下enter前進\n",
      ".........................P....Goal\n",
      "....................C.........Goal\n",
      "按下enter電腦前進\n",
      ".........................P....Goal\n",
      ".....................C........Goal\n",
      "按下enter前進\n",
      "............................P.Goal\n",
      ".....................C........Goal\n",
      "按下enter電腦前進\n",
      "............................P.Goal\n",
      "......................C.......Goal\n",
      "按下enter前進\n",
      ".............................PGoal\n",
      "......................C.......Goal\n",
      "你獲勝了!\n"
     ]
    }
   ],
   "source": [
    "#大富翁-判斷是否抵達終點\n",
    "import random\n",
    "\n",
    "pl_pos = 1\n",
    "com_pos = 1\n",
    "\n",
    "def banmen():\n",
    "    print(\".\"*(pl_pos-1) + \"P\" + \".\"*(30-pl_pos) + \"Goal\")\n",
    "    print(\".\"*(com_pos-1) + \"C\" + \".\"*(30-com_pos) + \"Goal\")\n",
    "\n",
    "banmen()\n",
    "print(\"大富翁開始!\")\n",
    "    \n",
    "while True:\n",
    "    input(\"按下enter前進\")\n",
    "    pl_pos += random.randint(1,6) \n",
    "    if pl_pos > 30:  #若玩家位置超過30，則將玩家位置調整為30\n",
    "        pl_pos = 30\n",
    "    banmen()         #印出新的地圖資訊\n",
    "    if pl_pos == 30: #判斷是否到達終點\n",
    "        print(\"你獲勝了!\")\n",
    "        break        #停止while迴圈\n",
    "    \n",
    "    input(\"按下enter電腦前進\")\n",
    "    com_pos += random.randint(1,6) \n",
    "    if com_pos > 30: #若電腦位置超過30，則將電腦位置調整為30\n",
    "        com_pos = 30\n",
    "    banmen()         #印出新的地圖資訊\n",
    "    if com_pos == 30:#判斷是否到達終點\n",
    "        print(\"電腦獲勝!\")\n",
    "        break        #停止while迴圈"
   ]
  },
  {
   "cell_type": "code",
   "execution_count": 25,
   "id": "d62c7012",
   "metadata": {},
   "outputs": [
    {
     "name": "stdout",
     "output_type": "stream",
     "text": [
      "■■■■■■■■■■\n",
      "■        ■\n",
      "■        ■\n",
      "■        ■\n",
      "■■■■■■■■■■\n"
     ]
    }
   ],
   "source": [
    "#用二維陣列創造地圖\n",
    "map_list = [[\".\"]*10 for i in range(5)]\n",
    "def show():\n",
    "    for i in range(5):\n",
    "        for j in range(10):\n",
    "            if i == 0 or j == 0 or j == 9 or i == 4:\n",
    "                print(\"■\", end = \"\")\n",
    "            else:\n",
    "                print(\" \",end = \"\") #印了之後別換行\n",
    "            if j == 9:   #印到第9個時要換行\n",
    "                print(\"\")\n",
    "show()"
   ]
  },
  {
   "cell_type": "code",
   "execution_count": 29,
   "id": "43c90bd7",
   "metadata": {},
   "outputs": [
    {
     "name": "stdout",
     "output_type": "stream",
     "text": [
      "■■■■■■■■■■\n",
      "■        ■\n",
      "■ ❣      ■\n",
      "■        ■\n",
      "■■■■■■■■■■\n"
     ]
    }
   ],
   "source": [
    "#設定玩家位置\n",
    "map_list = [[\".\"]*10 for i in range(5)]\n",
    "\n",
    "def show():\n",
    "    for i in range(5):\n",
    "        for j in range(10):\n",
    "            if map_list[i][j] == \"❣\":   #利用二維陣列裡面的內容來判斷要印什麼\n",
    "                print(\"❣\",end=\"\")\n",
    "            elif i == 0 or j == 0 or j == 9 or i == 4:\n",
    "                print(\"■\", end = \"\")\n",
    "            else:\n",
    "                print(\" \",end = \"\") \n",
    "            if j == 9:   \n",
    "                print(\"\")\n",
    "\n",
    "pl_x,pl_y = 2,2 #玩家的x,y座標\n",
    "map_list[pl_x][pl_y] = \"❣\"  #玩家符號\n",
    "\n",
    "show()"
   ]
  },
  {
   "cell_type": "code",
   "execution_count": null,
   "id": "0069a441",
   "metadata": {},
   "outputs": [],
   "source": [
    "#要讓他動起來，可以使用input函式接收輸入的字串。如果字串符合時，你想做什麼(條件式)，來去改變玩家的位置\n",
    "#也可以把上面的程式改的方便、活用一點(如:地圖大小可用輸入(input)的方式去做變更)\n",
    "#嘗試自己寫看看，若有興趣再跟老師討論"
   ]
  }
 ],
 "metadata": {
  "kernelspec": {
   "display_name": "Python 3 (ipykernel)",
   "language": "python",
   "name": "python3"
  },
  "language_info": {
   "codemirror_mode": {
    "name": "ipython",
    "version": 3
   },
   "file_extension": ".py",
   "mimetype": "text/x-python",
   "name": "python",
   "nbconvert_exporter": "python",
   "pygments_lexer": "ipython3",
   "version": "3.7.6"
  }
 },
 "nbformat": 4,
 "nbformat_minor": 5
}
