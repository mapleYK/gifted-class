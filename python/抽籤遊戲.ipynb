{
 "cells": [
  {
   "cell_type": "code",
   "execution_count": 9,
   "id": "a934a0da",
   "metadata": {},
   "outputs": [],
   "source": [
    "#插入背景圖\n",
    "import tkinter\n",
    "root = tkinter.Tk()\n",
    "root.title(\"抽籤遊戲\")\n",
    "root.resizable(False,False)\n",
    "canvas = tkinter.Canvas(root ,width=600, height=400)\n",
    "canvas.pack()\n",
    "\n",
    "gazou = tkinter.PhotoImage(file = \"pngtree-gi.png\")\n",
    "canvas.create_image(300,200,image = gazou)\n",
    "\n",
    "root.mainloop()"
   ]
  },
  {
   "cell_type": "code",
   "execution_count": 2,
   "id": "fdddf585",
   "metadata": {},
   "outputs": [],
   "source": [
    "#配置標籤與按鈕\n",
    "import tkinter\n",
    "root = tkinter.Tk()\n",
    "root.title(\"抽籤遊戲\")\n",
    "root.resizable(False,False)\n",
    "canvas = tkinter.Canvas(root ,width=600, height=400)\n",
    "canvas.pack()\n",
    "\n",
    "#匯入圖檔\n",
    "gazou = tkinter.PhotoImage(file = \"pngtree-gi.png\")\n",
    "canvas.create_image(300,200,image = gazou)\n",
    "\n",
    "#建立標籤\n",
    "label = tkinter.Label(root, text=\" ? ? \", font=(\"System\",100), bg = \"white\") #bg = background\n",
    "label.place(x=400, y=50)\n",
    "\n",
    "#建立按鈕\n",
    "button = tkinter.Button(root, text=\"抽籤\", font=(\"System\", 36), fg = \"skyblue\" ) #fg = foreground\n",
    "button.place(x = 400, y = 250)\n",
    "\n",
    "root.mainloop()"
   ]
  },
  {
   "cell_type": "code",
   "execution_count": 10,
   "id": "46319e33",
   "metadata": {},
   "outputs": [],
   "source": [
    "#使按鈕動作\n",
    "import tkinter\n",
    "import random\n",
    "\n",
    "def click_btn():\n",
    "    label[\"text\"] = random.choice([\"大吉\", \"中吉\", \"小吉\", \"小吉\", \"凶\"])   #隨機選擇清單裡的元素\n",
    "    label.update()\n",
    "\n",
    "root = tkinter.Tk()\n",
    "root.title(\"抽籤遊戲\")\n",
    "root.resizable(False,False)\n",
    "canvas = tkinter.Canvas(root ,width=600, height=400)\n",
    "canvas.pack()\n",
    "\n",
    "gazou = tkinter.PhotoImage(file = \"pngtree-gi.png\")\n",
    "canvas.create_image(300,200,image = gazou)\n",
    "\n",
    "label = tkinter.Label(root, text=\" ? ? \", font=(\"System\",50), bg = \"white\") \n",
    "label.place(x=400, y=100)\n",
    "\n",
    "button = tkinter.Button(root, text=\"抽籤\", font=(\"System\", 36), fg = \"skyblue\", command = click_btn) #加入點選指令\n",
    "button.place(x = 400, y = 250)\n",
    "\n",
    "root.mainloop()"
   ]
  },
  {
   "cell_type": "code",
   "execution_count": null,
   "id": "da92fc59",
   "metadata": {},
   "outputs": [],
   "source": []
  },
  {
   "cell_type": "code",
   "execution_count": null,
   "id": "4f1808fa",
   "metadata": {},
   "outputs": [],
   "source": []
  }
 ],
 "metadata": {
  "kernelspec": {
   "display_name": "Python 3 (ipykernel)",
   "language": "python",
   "name": "python3"
  },
  "language_info": {
   "codemirror_mode": {
    "name": "ipython",
    "version": 3
   },
   "file_extension": ".py",
   "mimetype": "text/x-python",
   "name": "python",
   "nbconvert_exporter": "python",
   "pygments_lexer": "ipython3",
   "version": "3.7.6"
  }
 },
 "nbformat": 4,
 "nbformat_minor": 5
}
