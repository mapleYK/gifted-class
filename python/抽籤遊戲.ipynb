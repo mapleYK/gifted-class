{
 "cells": [
  {
   "cell_type": "code",
   "execution_count": 9,
   "id": "ec4ca119",
   "metadata": {},
   "outputs": [],
   "source": [
    "#插入背景圖\n",
    "import tkinter\n",
    "root = tkinter.Tk()\n",
    "root.title(\"抽籤遊戲\")\n",
    "root.resizable(False,False)\n",
    "canvas = tkinter.Canvas(root ,width=600, height=400)\n",
    "canvas.pack()\n",
    "\n",
    "gazou = tkinter.PhotoImage(file = \"pngtree-gi.png\")\n",
    "canvas.create_image(300,200,image = gazou)\n",
    "\n",
    "root.mainloop()"
   ]
  },
  {
   "cell_type": "code",
   "execution_count": 23,
   "id": "75ed0b92",
   "metadata": {},
   "outputs": [],
   "source": [
    "#配置標籤與按鈕\n",
    "import tkinter\n",
    "root = tkinter.Tk()\n",
    "root.title(\"抽籤遊戲\")\n",
    "root.resizable(False,False)\n",
    "canvas = tkinter.Canvas(root ,width=600, height=400)\n",
    "canvas.pack()\n",
    "\n",
    "gazou = tkinter.PhotoImage(file = \"pngtree-gi.png\")\n",
    "canvas.create_image(300,200,image = gazou)\n",
    "\n",
    "label = tkinter.Label(root, text=\" ? ? \", font=(\"System\",100), bg = \"white\") #bg = background\n",
    "label.place(x=400, y=50)\n",
    "\n",
    "button = tkinter.Button(root, text=\"抽籤\", font=(\"System\", 36), fg = \"skyblue\" ) #fg = foreground\n",
    "button.place(x = 400, y = 250)\n",
    "\n",
    "root.mainloop()"
   ]
  },
  {
   "cell_type": "code",
   "execution_count": 26,
   "id": "10084eef",
   "metadata": {},
   "outputs": [],
   "source": []
  },
  {
   "cell_type": "code",
   "execution_count": null,
   "id": "8bd11343",
   "metadata": {},
   "outputs": [],
   "source": []
  }
 ],
 "metadata": {
  "kernelspec": {
   "display_name": "Python 3 (ipykernel)",
   "language": "python",
   "name": "python3"
  },
  "language_info": {
   "codemirror_mode": {
    "name": "ipython",
    "version": 3
   },
   "file_extension": ".py",
   "mimetype": "text/x-python",
   "name": "python",
   "nbconvert_exporter": "python",
   "pygments_lexer": "ipython3",
   "version": "3.7.6"
  }
 },
 "nbformat": 4,
 "nbformat_minor": 5
}
