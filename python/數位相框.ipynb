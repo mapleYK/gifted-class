{
 "cells": [
  {
   "cell_type": "code",
   "execution_count": null,
   "id": "8f462c49",
   "metadata": {},
   "outputs": [],
   "source": [
    "import tkinter\n",
    "\n",
    "pnum = 0\n",
    "def photograph():\n",
    "    global pnum\n",
    "    canvas.delete(\"PH\")\n",
    "    canvas.create_image(400, 300, image=photo[pnum], tag=\"PH\")\n",
    "    pnum = pnum + 1\n",
    "    if pnum >= len(photo):\n",
    "        pnum = 0\n",
    "    root.after(2000, photograph)\n",
    "\n",
    "root = tkinter.Tk()\n",
    "root.title(\"數位相框\")\n",
    "\n",
    "canvas = tkinter.Canvas(width=800, height=600)\n",
    "canvas.pack()\n",
    "\n",
    "photo = [\n",
    "tkinter.PhotoImage(file=\"cat00.png\"),\n",
    "tkinter.PhotoImage(file=\"cat01.png\"),\n",
    "tkinter.PhotoImage(file=\"cat02.png\"),\n",
    "tkinter.PhotoImage(file=\"cat03.png\")\n",
    "]\n",
    "photograph()\n",
    "\n",
    "root.mainloop()"
   ]
  }
 ],
 "metadata": {
  "kernelspec": {
   "display_name": "Python 3 (ipykernel)",
   "language": "python",
   "name": "python3"
  },
  "language_info": {
   "codemirror_mode": {
    "name": "ipython",
    "version": 3
   },
   "file_extension": ".py",
   "mimetype": "text/x-python",
   "name": "python",
   "nbconvert_exporter": "python",
   "pygments_lexer": "ipython3",
   "version": "3.7.6"
  }
 },
 "nbformat": 4,
 "nbformat_minor": 5
}
