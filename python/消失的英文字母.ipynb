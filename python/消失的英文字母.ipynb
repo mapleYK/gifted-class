{
 "cells": [
  {
   "cell_type": "code",
   "execution_count": 1,
   "id": "f70a57c4",
   "metadata": {},
   "outputs": [
    {
     "name": "stdout",
     "output_type": "stream",
     "text": [
      "A\n",
      "B\n",
      "C\n",
      "D\n",
      "E\n",
      "F\n",
      "G\n"
     ]
    }
   ],
   "source": [
    "#產英文字母\n",
    "import random\n",
    "ALP = [\"A\",\"B\",\"C\",\"D\",\"E\",\"F\",\"G\"]\n",
    "\n",
    "for i in ALP:\n",
    "    print(i)"
   ]
  },
  {
   "cell_type": "code",
   "execution_count": 4,
   "id": "c5d8e41c",
   "metadata": {},
   "outputs": [
    {
     "name": "stdout",
     "output_type": "stream",
     "text": [
      "ABCDFG\n"
     ]
    }
   ],
   "source": [
    "#隨機取一字母，並列印沒被取出之字串\n",
    "import random\n",
    "ALP = [\"A\",\"B\",\"C\",\"D\",\"E\",\"F\",\"G\"]\n",
    "r = random.choice(ALP)  #隨機選擇一個字母\n",
    "alp = \"\"    #先告訴電腦我需要一個空字串(這樣才可以把我想要的字加進去)，未來要將這些字串印出\n",
    "\n",
    "for i in ALP:\n",
    "    if i != r:  #若i這個字不等於r這個字\n",
    "        alp = alp + i #將i加入alp字串中\n",
    "        \n",
    "print(alp)"
   ]
  },
  {
   "cell_type": "code",
   "execution_count": 5,
   "id": "a6bddaea",
   "metadata": {},
   "outputs": [
    {
     "name": "stdout",
     "output_type": "stream",
     "text": [
      "ABDEFG\n",
      "缺少哪個字母呢?C\n",
      "正確\n"
     ]
    }
   ],
   "source": [
    "#輸入與判斷答案\n",
    "import random\n",
    "ALP = [\"A\",\"B\",\"C\",\"D\",\"E\",\"F\",\"G\"]\n",
    "r = random.choice(ALP)  \n",
    "alp = \"\"    \n",
    "\n",
    "for i in ALP:\n",
    "    if i != r:  \n",
    "        alp = alp + i \n",
    "        \n",
    "print(alp)\n",
    "\n",
    "ans = input(\"缺少哪個字母呢?\")  #輸入\n",
    "\n",
    "if ans == r:    #判斷\n",
    "    print(\"正確\")\n",
    "else:\n",
    "    print(\"錯誤\")"
   ]
  },
  {
   "cell_type": "code",
   "execution_count": 6,
   "id": "ff57ef26",
   "metadata": {},
   "outputs": [
    {
     "name": "stdout",
     "output_type": "stream",
     "text": [
      "ACDEFG\n",
      "缺少哪個字母呢?B\n",
      "正確\n",
      "總共花了 4 秒\n"
     ]
    }
   ],
   "source": [
    "#加入時間計測\n",
    "import datetime\n",
    "import random\n",
    "ALP = [\"A\",\"B\",\"C\",\"D\",\"E\",\"F\",\"G\"]\n",
    "r = random.choice(ALP)  \n",
    "alp = \"\"    \n",
    "\n",
    "for i in ALP:\n",
    "    if i != r:  \n",
    "        alp = alp + i \n",
    "        \n",
    "print(alp)\n",
    "\n",
    "st = datetime.datetime.now() #將現在的時間放入st這個變數\n",
    "ans = input(\"缺少哪個字母呢?\")\n",
    "\n",
    "if ans == r:\n",
    "    print(\"正確\")\n",
    "    et = datetime.datetime.now() #將現在的時間放入et這個變數\n",
    "    print(\"總共花了\", (et-st).seconds , \"秒\") #將時間差距換算成秒之後輸出\n",
    "else:\n",
    "    print(\"錯誤\")"
   ]
  },
  {
   "cell_type": "code",
   "execution_count": 8,
   "id": "e3c0d9d4",
   "metadata": {},
   "outputs": [
    {
     "name": "stdout",
     "output_type": "stream",
     "text": [
      "現在時間 2023-11-24 11:32:53.820785\n"
     ]
    }
   ],
   "source": [
    "#若不知道函式在做什麼，可以善用print印出來看看\n",
    "print(\"現在時間\",datetime.datetime.now())"
   ]
  },
  {
   "cell_type": "code",
   "execution_count": null,
   "id": "0f756f52",
   "metadata": {},
   "outputs": [],
   "source": []
  }
 ],
 "metadata": {
  "kernelspec": {
   "display_name": "Python 3 (ipykernel)",
   "language": "python",
   "name": "python3"
  },
  "language_info": {
   "codemirror_mode": {
    "name": "ipython",
    "version": 3
   },
   "file_extension": ".py",
   "mimetype": "text/x-python",
   "name": "python",
   "nbconvert_exporter": "python",
   "pygments_lexer": "ipython3",
   "version": "3.7.6"
  }
 },
 "nbformat": 4,
 "nbformat_minor": 5
}
