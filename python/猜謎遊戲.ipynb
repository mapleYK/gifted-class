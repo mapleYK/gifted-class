{
 "cells": [
  {
   "cell_type": "code",
   "execution_count": 1,
   "id": "e2841d39",
   "metadata": {},
   "outputs": [
    {
     "name": "stdout",
     "output_type": "stream",
     "text": [
      "ant\n",
      "avoid\n",
      "bagels\n",
      "bounce\n",
      "cannon\n",
      "connect\n",
      "crypto\n",
      "fidget\n",
      "flappy\n",
      "guess\n",
      "illusion\n",
      "life\n",
      "madlibs\n",
      "maze\n",
      "memory\n",
      "minesweeper\n",
      "pacman\n",
      "paint\n",
      "pong\n",
      "rps\n",
      "simonsays\n",
      "snake\n",
      "tictactoe\n",
      "tiles\n",
      "tron\n",
      "typing\n"
     ]
    }
   ],
   "source": [
    "!python -m freegames list"
   ]
  },
  {
   "cell_type": "code",
   "execution_count": 2,
   "id": "de90fa55",
   "metadata": {},
   "outputs": [],
   "source": [
    "!python -m freegames.paint"
   ]
  },
  {
   "cell_type": "code",
   "execution_count": 3,
   "id": "2505babd",
   "metadata": {},
   "outputs": [],
   "source": [
    "!python -m freegames.snake"
   ]
  },
  {
   "cell_type": "code",
   "execution_count": 4,
   "id": "cc8440b5",
   "metadata": {},
   "outputs": [],
   "source": [
    "!python -m freegames.pacman"
   ]
  },
  {
   "cell_type": "code",
   "execution_count": 5,
   "id": "bab7d121",
   "metadata": {},
   "outputs": [],
   "source": [
    "!python -m freegames.cannon"
   ]
  },
  {
   "cell_type": "code",
   "execution_count": 6,
   "id": "7b43e299",
   "metadata": {},
   "outputs": [],
   "source": [
    "!python -m freegames.pong"
   ]
  },
  {
   "cell_type": "code",
   "execution_count": 7,
   "id": "c9e3c1d5",
   "metadata": {},
   "outputs": [],
   "source": [
    "!python -m freegames.tiles "
   ]
  },
  {
   "cell_type": "code",
   "execution_count": 8,
   "id": "9723cd7d",
   "metadata": {},
   "outputs": [],
   "source": [
    "#以上為python freegames的小遊戲"
   ]
  },
  {
   "cell_type": "code",
   "execution_count": null,
   "id": "d814eb2d",
   "metadata": {},
   "outputs": [],
   "source": [
    "#自己開發文字小遊戲\n",
    "#ex.猜數字\n",
    "import random\n",
    "ans = random.randrange(0,100,1)\n",
    "temp = -1\n",
    "while temp != ans:\n",
    "    temp = int(input(\"猜一個數字:\"))\n",
    "    if temp > ans:\n",
    "        print(\"太大了\")\n",
    "    elif temp < ans:\n",
    "        print(\"太小了\")\n",
    "    else:\n",
    "        print(\"答對了\")\n",
    "        break"
   ]
  },
  {
   "cell_type": "code",
   "execution_count": null,
   "id": "2ed92b85",
   "metadata": {},
   "outputs": [],
   "source": [
    "import calendar\n",
    "print(calendar.month(2019,5))"
   ]
  },
  {
   "cell_type": "code",
   "execution_count": null,
   "id": "1cbaa8db",
   "metadata": {},
   "outputs": [],
   "source": [
    "#猜謎遊戲\n",
    "print(\"我叫什麼名字?\")\n",
    "ans = input()\n",
    "if ans == \"黃意婷\" or ans == \"lucy\":\n",
    "    print(\"答對了!\")\n",
    "else:\n",
    "    print(\"答錯了!\")"
   ]
  },
  {
   "cell_type": "code",
   "execution_count": null,
   "id": "aefb1ce6",
   "metadata": {},
   "outputs": [],
   "source": [
    "#猜謎遊戲(多個問題)\n",
    "question = [\"我叫什麼名字?\",\"我幾歲?\",\"我的性別?\"]\n",
    "real_ans = [\"黃意婷\",\"18\",\"女\"]\n",
    "\n",
    "for i in range(3):\n",
    "    print(question[i])\n",
    "    ans = input()\n",
    "    if ans == real_ans[i]:\n",
    "        print(\"答對了\")\n",
    "    else:\n",
    "        print(\"答錯了\")"
   ]
  }
 ],
 "metadata": {
  "kernelspec": {
   "display_name": "Python 3 (ipykernel)",
   "language": "python",
   "name": "python3"
  },
  "language_info": {
   "codemirror_mode": {
    "name": "ipython",
    "version": 3
   },
   "file_extension": ".py",
   "mimetype": "text/x-python",
   "name": "python",
   "nbconvert_exporter": "python",
   "pygments_lexer": "ipython3",
   "version": "3.7.6"
  }
 },
 "nbformat": 4,
 "nbformat_minor": 5
}
