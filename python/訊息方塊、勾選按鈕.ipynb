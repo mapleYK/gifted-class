{
 "cells": [
  {
   "cell_type": "code",
   "execution_count": 1,
   "id": "05a74d95",
   "metadata": {},
   "outputs": [],
   "source": [
    "#添加訊息方塊\n",
    "import tkinter as tk\n",
    "root = tk.Tk()\n",
    "root.title(\"第一個文字輸入欄位\")\n",
    "root.geometry(\"400x200\")\n",
    "\n",
    "entry = tk.Entry(width=20) #建立可輸入20個半形字元的文字輸出欄位\n",
    "entry.place(x=10,y=10)     \n",
    "\n",
    "root.mainloop()"
   ]
  },
  {
   "cell_type": "code",
   "execution_count": 9,
   "id": "a77d9c57",
   "metadata": {},
   "outputs": [],
   "source": [
    "#增加按鈕\n",
    "import tkinter as tk\n",
    "\n",
    "def click_btn():\n",
    "    txt=entry.get()\n",
    "    button[\"text\"]=txt\n",
    "\n",
    "root = tk.Tk()\n",
    "root.title(\"第一個文字輸入欄位\")\n",
    "root.geometry(\"400x200\")\n",
    "\n",
    "entry = tk.Entry(width=20) \n",
    "entry.place(x=10,y=10)     \n",
    "\n",
    "button = tk.Button(text=\"取得字串\",command=click_btn)\n",
    "button.place(x=20,y=100)\n",
    "\n",
    "root.mainloop()"
   ]
  },
  {
   "cell_type": "code",
   "execution_count": 5,
   "id": "35329673",
   "metadata": {},
   "outputs": [],
   "source": [
    "#認識多列文字輸出欄位\n",
    "import tkinter as tk\n",
    "\n",
    "def click_btn():\n",
    "    text.insert(tk.END,\"怪物出現了!\") #在文字輸入欄位的最後追加字串\n",
    "\n",
    "root = tk.Tk()\n",
    "root.title(\"第一個文字輸入欄位\")\n",
    "root.geometry(\"400x200\")\n",
    "\n",
    "button = tk.Button(text=\"訊息\",command=click_btn)\n",
    "button.pack()\n",
    "\n",
    "text=tk.Text()  #建立多列文字輸入欄位\n",
    "text.pack()\n",
    "\n",
    "root.mainloop()"
   ]
  },
  {
   "cell_type": "code",
   "execution_count": 11,
   "id": "328ba97a",
   "metadata": {},
   "outputs": [],
   "source": [
    "#預設勾選狀態\n",
    "import tkinter as tk\n",
    "root = tk.Tk()\n",
    "root.title(\"第一個文字輸入欄位\")\n",
    "root.geometry(\"400x200\")\n",
    "\n",
    "cval=tk.BooleanVar()#建立一個BooleanVar()的物件\n",
    "cval.set(True)      #將物件設定為True\n",
    "\n",
    "cbtn = tk.Checkbutton(text=\"勾選按鈕\", variable = cval) \n",
    "cbtn.pack()\n",
    "\n",
    "root.mainloop()"
   ]
  },
  {
   "cell_type": "code",
   "execution_count": 12,
   "id": "91e7841d",
   "metadata": {},
   "outputs": [
    {
     "name": "stdout",
     "output_type": "stream",
     "text": [
      "已勾選\n",
      "未勾選\n",
      "已勾選\n",
      "未勾選\n",
      "已勾選\n",
      "未勾選\n",
      "已勾選\n",
      "未勾選\n",
      "已勾選\n",
      "未勾選\n",
      "已勾選\n",
      "未勾選\n",
      "已勾選\n",
      "未勾選\n",
      "已勾選\n",
      "未勾選\n"
     ]
    }
   ],
   "source": [
    "import tkinter as tk\n",
    "\n",
    "def check():\n",
    "    if cval.get()==True:\n",
    "        print(\"已勾選\")\n",
    "    else:\n",
    "        print(\"未勾選\")\n",
    "        \n",
    "root = tk.Tk()\n",
    "root.title(\"第一個文字輸入欄位\")\n",
    "root.geometry(\"400x200\")\n",
    "\n",
    "cval=tk.BooleanVar()\n",
    "cval.set(False)      \n",
    "\n",
    "cbtn = tk.Checkbutton(text=\"勾選按鈕\", variable = cval, command=check) \n",
    "cbtn.pack()\n",
    "\n",
    "root.mainloop()"
   ]
  },
  {
   "cell_type": "code",
   "execution_count": 10,
   "id": "4020f624",
   "metadata": {},
   "outputs": [],
   "source": [
    "#顯示訊息方塊\n",
    "import tkinter as tk\n",
    "import tkinter.messagebox\n",
    "\n",
    "def check():\n",
    "    tkinter.messagebox.showwarning(\"資訊\",\"點選按鈕了\")  #顯示訊息模組(showwarning()、showerror()、askyesno()、askokcancel())\n",
    "        \n",
    "root = tk.Tk()\n",
    "root.title(\"第一個文字輸入欄位\")\n",
    "root.geometry(\"400x200\")\n",
    "\n",
    "cbtn = tk.Button(text=\"測試\", command=check) \n",
    "cbtn.pack()\n",
    "\n",
    "root.mainloop()"
   ]
  },
  {
   "cell_type": "code",
   "execution_count": null,
   "id": "b0e96cca",
   "metadata": {},
   "outputs": [],
   "source": []
  }
 ],
 "metadata": {
  "kernelspec": {
   "display_name": "Python 3 (ipykernel)",
   "language": "python",
   "name": "python3"
  },
  "language_info": {
   "codemirror_mode": {
    "name": "ipython",
    "version": 3
   },
   "file_extension": ".py",
   "mimetype": "text/x-python",
   "name": "python",
   "nbconvert_exporter": "python",
   "pygments_lexer": "ipython3",
   "version": "3.7.6"
  }
 },
 "nbformat": 4,
 "nbformat_minor": 5
}
