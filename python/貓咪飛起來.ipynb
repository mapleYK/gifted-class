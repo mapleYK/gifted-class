{
 "cells": [
  {
   "cell_type": "code",
   "execution_count": 1,
   "id": "a983daa3",
   "metadata": {},
   "outputs": [],
   "source": [
    "#製作計時器\n",
    "import tkinter\n",
    "\n",
    "tmr = 0   #宣告一個計時變數tmr(全域變數)\n",
    "\n",
    "def count_up():\n",
    "    global tmr  #將tmr宣告為全域變數\n",
    "    tmr = tmr + 1\n",
    "    label[\"text\"] = tmr\n",
    "    root.after(1000, count_up)  #過1秒後再次執行這個函數\n",
    "\n",
    "root = tkinter.Tk()\n",
    "\n",
    "label = tkinter.Label(font=(\"Times New Roman\", 80))\n",
    "label.pack()\n",
    "\n",
    "root.after(1000, count_up)  #after(毫秒，要執行的函數的名稱)\n",
    "\n",
    "root.mainloop()"
   ]
  },
  {
   "cell_type": "code",
   "execution_count": 10,
   "id": "e70b05fe",
   "metadata": {},
   "outputs": [
    {
     "name": "stdout",
     "output_type": "stream",
     "text": [
      "[50, 20, 40, 4, 5]\n"
     ]
    }
   ],
   "source": [
    "#列表不用宣告全域\n",
    "\n",
    "mi=[50,20,3,4,5]\n",
    "def gg():\n",
    "    mi[2] = 40\n",
    "    print(mi)\n",
    "    \n",
    "gg()"
   ]
  },
  {
   "cell_type": "code",
   "execution_count": 11,
   "id": "f1e4296f",
   "metadata": {},
   "outputs": [
    {
     "name": "stdout",
     "output_type": "stream",
     "text": [
      "50\n"
     ]
    }
   ],
   "source": [
    "#沒有改動變數值，也可直接在函數中列印全域變數\n",
    "mi=50\n",
    "\n",
    "def ff():\n",
    "    print(mi)\n",
    "    \n",
    "ff()"
   ]
  },
  {
   "cell_type": "code",
   "execution_count": 12,
   "id": "6bc7653d",
   "metadata": {},
   "outputs": [
    {
     "name": "stdout",
     "output_type": "stream",
     "text": [
      "KEY:37\n",
      "KEY:40\n",
      "KEY:38\n",
      "KEY:39\n"
     ]
    }
   ],
   "source": [
    "#取得鍵碼\n",
    "import tkinter\n",
    "key = 0\n",
    "def key_down(e):\n",
    "    global key\n",
    "    key = e.keycode      #取得鍵碼\n",
    "    print(\"KEY:\"+str(key))\n",
    "\n",
    "root = tkinter.Tk()\n",
    "root.title(\"取得鍵碼\")\n",
    "root.bind(\"<KeyPress>\", key_down) #用bind()命令指定按下按鍵時，要執行的函數\n",
    "\n",
    "'''\n",
    "bind(\"<事件>\",於事件觸發之際執行的函數)\n",
    "\n",
    "<事件>:\n",
    "<KeyPress>、<Key>--按下按鍵\n",
    "<KeyRelease>--放開按鍵\n",
    "<Motion>--移動滑鼠游標\n",
    "<ButtonPress>、<Button>--點選滑鼠按鍵\n",
    "\n",
    "'''\n",
    "\n",
    "root.mainloop()"
   ]
  },
  {
   "cell_type": "code",
   "execution_count": 14,
   "id": "276a1ae2",
   "metadata": {},
   "outputs": [],
   "source": [
    "#及時處理按鍵內容\n",
    "\n",
    "import tkinter\n",
    "\n",
    "key = 0\n",
    "\n",
    "def key_down(e):\n",
    "    global key\n",
    "    key = e.keycode\n",
    "\n",
    "def main_proc():\n",
    "    label[\"text\"] = key\n",
    "    root.after(100, main_proc)\n",
    "\n",
    "root = tkinter.Tk()\n",
    "root.title(\"即時按鍵輸入處理\")\n",
    "\n",
    "root.bind(\"<KeyPress>\", key_down)  \n",
    "\n",
    "label = tkinter.Label(font=(\"Times New Roman\", 80))\n",
    "label.pack()\n",
    "\n",
    "main_proc()\n",
    "\n",
    "root.mainloop()\n"
   ]
  },
  {
   "cell_type": "code",
   "execution_count": 16,
   "id": "b3125d32",
   "metadata": {},
   "outputs": [],
   "source": [
    "#顯示按鍵名稱\n",
    "\n",
    "import tkinter\n",
    "\n",
    "key = \"\"\n",
    "def key_down(e):\n",
    "    global key\n",
    "    key = e.keysym #按鍵名稱代入key\n",
    "\n",
    "def main_proc():\n",
    "    label[\"text\"] = key\n",
    "    root.after(100, main_proc)\n",
    "\n",
    "root = tkinter.Tk()\n",
    "root.title(\"即時按鍵輸入處理\")\n",
    "root.bind(\"<KeyPress>\", key_down)\n",
    "\n",
    "label = tkinter.Label(font=(\"Times New Roman\", 80))\n",
    "label.pack()\n",
    "\n",
    "main_proc()\n",
    "\n",
    "root.mainloop()\n"
   ]
  },
  {
   "cell_type": "code",
   "execution_count": 7,
   "id": "fa99e6a7",
   "metadata": {},
   "outputs": [],
   "source": [
    "#搭配圖片\n",
    "import tkinter\n",
    "\n",
    "key = \"\"\n",
    "def key_down(e):\n",
    "    global key\n",
    "    key = e.keysym\n",
    "def key_up(e):\n",
    "    global key\n",
    "    key = \"\"\n",
    "\n",
    "cx = 400\n",
    "cy = 300\n",
    "\n",
    "def main_proc():\n",
    "    global cx, cy\n",
    "    if key == \"Up\":\n",
    "        cy = cy - 20\n",
    "    if key == \"Down\":\n",
    "        cy = cy + 20\n",
    "    if key == \"Left\":\n",
    "        cx = cx - 20\n",
    "    if key == \"Right\":\n",
    "        cx = cx + 20\n",
    "    canvas.coords(\"MYCHR\", cx, cy)  #將圖片移動到新的位置\n",
    "    root.after(100, main_proc)\n",
    "\n",
    "root = tkinter.Tk()\n",
    "root.title(\"移動角色\")\n",
    "root.bind(\"<KeyPress>\", key_down)\n",
    "root.bind(\"<KeyRelease>\", key_up)\n",
    "\n",
    "canvas = tkinter.Canvas(width=800, height=600, bg=\"lightgreen\")\n",
    "canvas.pack()\n",
    "\n",
    "img = tkinter.PhotoImage(file=\"mimi.png\")\n",
    "canvas.create_image(cx, cy, image=img, tag=\"MYCHR\") #tag用來幫圖片取名稱，之後方便呼叫來使用\n",
    "\n",
    "main_proc()\n",
    "root.mainloop()\n"
   ]
  },
  {
   "cell_type": "code",
   "execution_count": null,
   "id": "dfd4b44b",
   "metadata": {},
   "outputs": [],
   "source": []
  }
 ],
 "metadata": {
  "kernelspec": {
   "display_name": "Python 3 (ipykernel)",
   "language": "python",
   "name": "python3"
  },
  "language_info": {
   "codemirror_mode": {
    "name": "ipython",
    "version": 3
   },
   "file_extension": ".py",
   "mimetype": "text/x-python",
   "name": "python",
   "nbconvert_exporter": "python",
   "pygments_lexer": "ipython3",
   "version": "3.7.6"
  }
 },
 "nbformat": 4,
 "nbformat_minor": 5
}
